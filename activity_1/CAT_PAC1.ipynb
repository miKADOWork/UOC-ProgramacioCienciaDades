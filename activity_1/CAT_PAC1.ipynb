{
 "cells": [
  {
   "cell_type": "markdown",
   "id": "1da0e2c7",
   "metadata": {
    "id": "1da0e2c7",
    "tags": []
   },
   "source": [
    "Programació per a la ciència de dades - PAC1\n",
    "============================\n",
    "\n",
    "En aquest Notebook trobareu un conjunt d'exercicis que es corresponen a la primera activitat d'evaluació contínua (PAC) de l'assignatura.\n",
    "\n",
    "Per a cada exercici, heu de tenir en consideració que:\n",
    "\n",
    "* **És necessari incloure comentaris** del vostre codi, que expliquin com s'ha implementat la solució del problema plantejat.\n",
    "* **És imprescindible** citar les referències consultades per a realitzar l'activitat. Es valorará que el codi proporcionat solucioni el problema proposat i que també la qualitat del codi (comentaris, legibilitat, claretat, ús de les estructures de dades adequades, bona nomenclatura de les variables i funcions, seguiment del PEP8, etc.).\n",
    "\n",
    "Veureu que cada una de les activitats té associada una puntuació, que indica el pes que té aquesta activitat sobre la nota final de la PAC.\n",
    "\n",
    "A més, totes les activitats tenen una etiqueta, que indica els recursos necessaris per a dur-la a terme. Hi ha 3 etiquetes:\n",
    "\n",
    "* <span style=\"font-family: Courier New; background-color: #82b74b; color: #000000; padding: 3px; \">SM</span>   **Només materials**: les eines necessàries per a realitzar l'activitat es poden trobar en els materials de l'assignatura (considerem també els materials de l'assignatura de Fonaments de programació, així com les lectures obligatòries de material extern que s'indiquen en els notebooks).  \n",
    "* <span style=\"font-family: Courier New; background-color: #ffcc5c; color: #000000; padding: 3px; \">EG</span>**Consulta Externa Guiada**: l'activitat pot requerir de l'ús d'eines que no es troben en els materials de l'assignatura, però l'enunciat conté indicacions d'on, o com, trobar la informació addicional necessària per a resoldre l'activitat.\n",
    "* <span style=\"font-family: Courier New; background-color: #f2ae72; color: #000000; padding: 3px; \">EI</span>**Consulta externa independient**: l'activitat pot requerir de fer ús d'eines que no es troben en els materials de l'assignatura, i que l'enunciat pot no incloure la descripció d'on o com trobar aquesta informació addicional. Serà necessari que l'estudiant busqui informació utilizant els recursos que s'han explicat a l'assignatura.\n",
    "\n",
    "És important tenir en compte que aquestes etiquetes no indiquen el nivell de dificultat de l'exercici, sinó que únicament la necessitat de consulta de documentació externa per a la seva resolució. A més, s'ha de recordar que les **etiquetes són informatives**, però es poden consultar referències externes sempre que es cregui necessari (encara que no s'indiqui explícitament) o que es pugui realitzar una activitat sense consultar cap tipus de documentació. Per exemple, per a resoldre una activitat que només requereix de materials de l'assignatura, es poden consultar referències externes si així es desitja, ja que tant pot ajudar per a la resolució del problema, com també per a ampliar-ne els coneixements.\n",
    "\n",
    "---\n",
    "\n",
    "## Abans de començar\n",
    "\n",
    "\n",
    "Llegiu atentament els paràgrafs que segueixen, relacionats amb l'originalitat en les activitats, abans de començar la PAC. Si us sorgeix qualsevol dubte us podeu dirigir al professor col·laborador de l'assignatura abans de continuar amb l'activitat.\n",
    "\n",
    "<div class=\"alert alert-block alert-success\"> La manca d'originalitat es produeix quan en una activitat apareix el contingut que no ha estat elaborat de forma individual per l'estudiant i no es referencia adequadament el seu origen. O bé quan, encara que el contingut extern estigui referenciat, aquest és tant extens que no és possible considerar a l'estudiant l'autor o autora de l'activitat.\n",
    "\n",
    "<br /><br />\n",
    "Així, alguns exemples de comportaments inadequats degut a la manca d'originalitat són:\n",
    "<ol>\n",
    "    <li> Crear la solució d'un exercici de la PAC en col·laboració entre diferents estudiants.</li>\n",
    "    <li> Incloure un exercici de la PAC que utiliza codi trobat a Internet sense citar-ne la font.</li>\n",
    "    <li> Compartir la vostra solució de la PAC amb altres estudiants de l'assignatura,</li>\n",
    "    </ol>\n",
    "</div>\n",
    "\n",
    "## Instruccions d'entrega\n",
    "\n",
    "Per a procedir a l'entrega de l'activitat és necessari realitzar els següents passos:\n",
    "\n",
    "1. Comprobeu que el notebook s'executa correctament a Google Colaboratory. És important que abans d'entregar la vostra PAC us assegureu que la versió final del codi s'executa correctament en la seva totalitat. Per tant, es recomana fer una execució complerta des de 0 del notebook, fent click a\n",
    "<i>\"Entorn d'execució i executar totes\",</i> i comprobant que totes les cel·les del notebook s'executen correctament.\n",
    "2. Confirmeu que sou els autors únics de la PAC i que aquesta inclou totes les cites a recursos externs que s'hagin utilizat per a el·laborar-la. Amb la finalitat de confirmar que sous els autors únics de l'activitat, afegiu el vostre nom complert a la cel·la següent.\n",
    "3. Entregeu el notebook corresponent a la resolució de la PAC a través del Llibre de qualificacions de l'aula. Podeu descarregar el notebook mitjançant\n",
    " <i> \"Arxiu, descarregar i descargar .ipynb\" </i>\n",
    "\n",
    "\n"
   ]
  },
  {
   "cell_type": "markdown",
   "id": "a9afaddc",
   "metadata": {
    "id": "a9afaddc"
   },
   "source": [
    "<div class=\"alert alert-block alert-warning\">Jo, FERNANDO ALAEJOS GARCIA, confirmo que he el·laborat de forma individual totes les activitats resoltes d'aquesta PAC, i que he inclòs les cites a totes les fonts externes que he utilizat per a resoldre les activitats.\n",
    "</div>"
   ]
  },
  {
   "cell_type": "markdown",
   "id": "42367960",
   "metadata": {
    "id": "42367960"
   },
   "source": [
    "\n",
    "## Type hint\n",
    "\n",
    "Us recomanem resoldre aquesta PAC utilitzant type hints. Podeu entendre què són els type hints de Python com una solució formal per a indicar estèticament el tipus de valor dins el codi Python. Us recomanem la visualització del següent\n",
    "[vídeo](https://www.youtube.com/watch?v=j0dy8Q9VIPk) per a una introducció als type hints de Python, i per a entendre per què són interessants.\n",
    "\n",
    "**L'ús dels type hints a la resolució de la PAC es bonificarà amb 0.25 punts addicionals (per a obtenir tota la puntuació addicional, s'ha d'implementar els type hints de totes les funciones creades a la PAC). No és necessari que utilizeu els type hints en totes les variables, sinó només en les capçaleres de les funcions.**\n"
   ]
  },
  {
   "cell_type": "markdown",
   "id": "ab2db40d",
   "metadata": {
    "id": "ab2db40d"
   },
   "source": [
    "##  Enunciat\n",
    "Els següents exercicis es realizaran utilitzant el dataset \"people.csv\" proporcionat conjuntament amb la PAC, i que contenen informació sobre diferents persones. Cada fila representa a una persona.\n",
    "\n",
    "Els camps del dataset són els següents:\n",
    "\n",
    "   - Index: identificador de registre ordenat ascendentement.\n",
    "   - User Id: Codi que identifica de forma unívoca a la persona.\n",
    "   - First Name: Nom de la persona.\n",
    "   - Last Name: Cognom de la persona.\n",
    "   - Sex: Sexe de la persona.\n",
    "   - Email: Correu electrònic de la persona.\n",
    "   - Phone: Telèfon de la persona.\n",
    "   - Date of Birth: Data de naixement de la persona.\n",
    "   - Job Title: Descripció curta de l'ofici de la persona.\n",
    "\n",
    "\n",
    "**IMPORTANT:** La càrrega del dataset s'ha de fer utilizant **rutes relatives**,\n",
    "heu de carregar el fitxer tenint en compte que treballeu en una màquina remota i que podeu pujar els fitxers a la mateixa ruta que aquest notebook.\n",
    "\n",
    "Per tant, heu de tenir en compte de pujar el fitxer .csv al vostre drive, juntament amb la còpia d'aquest fitxer de notebook que utilizareu per a resoldre els problemes.\n"
   ]
  },
  {
   "cell_type": "markdown",
   "id": "dbc2d435",
   "metadata": {
    "id": "dbc2d435"
   },
   "source": [
    "## Exercici 1\n",
    "\n",
    "Carregueu el dataset de manera que obtingueu un objecte de tipus dataframe.\n",
    "\n",
    "Un cop carregat el dataset aplicarem les següents modificacions.\n",
    "\n",
    "1. Consulteu el número de noms diferents.\n",
    "2. Convertir la columna data de naixement al format Dia/Mes/Any (dd/mm/aaaa)\n",
    "3. Les files que continguin el mateix Email, deixeu-ne només una. Elimineu totes les files que continguin aquest mateix Email, mantenint només el primer registre.\n",
    "4. Una vegada el·liminades les files, comprobeu que el nombre de registres totals coincideix amb el nombre de Emails diferents (realitza la casella de codi posterior a l'utilitzada per a implementar la solució, utilizant asserts)\n",
    "5. Alguns oficis estan escrits entre \". Elimineu el símbol \" de la columna ofici (Job Title) de tots els registres.\n",
    "6. Visualitza els 20 primers elements del dataset.\n",
    "\n",
    "Pista 1: Recordeu que podeu utilizar llibreries com 'pandas' per a carregar el conjunt de dades de manera senzilla i obtenir un dataframe.\n",
    "\n",
    "Pista 2: El type hint d'un dataframe és pd.DataFrame.\n",
    "\n",
    "**Al finalitzar aquest exercici, obtindrem un dataset amb les modificacions realizades. Aquest dataset l'utilizarem per als següents exercicis.**\n",
    "\n",
    "<span style=\"font-family: Courier New; background-color: #82b74b; color: #000000; padding: 3px; \">SM</span> **(2 punts)**"
   ]
  },
  {
   "cell_type": "markdown",
   "id": "nwSGZUMNl7EP",
   "metadata": {
    "id": "nwSGZUMNl7EP"
   },
   "source": [
    "<div style=\"background-color: #fcf2f2; border-color: #dfb5b4; border-left: 5px solid #dfb5b4; padding: 0.5em;\">\n",
    "<strong>Solució</strong>\n",
    "</div>"
   ]
  },
  {
   "cell_type": "code",
   "execution_count": 1,
   "id": "8cae893f",
   "metadata": {
    "id": "8cae893f"
   },
   "outputs": [
    {
     "name": "stdout",
     "output_type": "stream",
     "text": [
      "El nom de noms diferents és de 690 noms\n",
      "0    1921-08-17\n",
      "1    1969-06-28\n",
      "2    1915-09-25\n",
      "Name: Date of birth, dtype: object\n",
      "0    17-08-1921\n",
      "1    28-06-1969\n",
      "2    25-09-1915\n",
      "Name: Date of birth, dtype: object\n"
     ]
    },
    {
     "data": {
      "text/html": [
       "<div>\n",
       "<style scoped>\n",
       "    .dataframe tbody tr th:only-of-type {\n",
       "        vertical-align: middle;\n",
       "    }\n",
       "\n",
       "    .dataframe tbody tr th {\n",
       "        vertical-align: top;\n",
       "    }\n",
       "\n",
       "    .dataframe thead th {\n",
       "        text-align: right;\n",
       "    }\n",
       "</style>\n",
       "<table border=\"1\" class=\"dataframe\">\n",
       "  <thead>\n",
       "    <tr style=\"text-align: right;\">\n",
       "      <th></th>\n",
       "      <th>Index</th>\n",
       "      <th>User Id</th>\n",
       "      <th>First Name</th>\n",
       "      <th>Last Name</th>\n",
       "      <th>Sex</th>\n",
       "      <th>Email</th>\n",
       "      <th>Phone</th>\n",
       "      <th>Date of birth</th>\n",
       "      <th>Job Title</th>\n",
       "    </tr>\n",
       "  </thead>\n",
       "  <tbody>\n",
       "    <tr>\n",
       "      <th>0</th>\n",
       "      <td>1</td>\n",
       "      <td>5f10e9D33fC5f2b</td>\n",
       "      <td>Sara</td>\n",
       "      <td>Mcguire</td>\n",
       "      <td>Female</td>\n",
       "      <td>tsharp@example.net</td>\n",
       "      <td>(971)643-6089x9160</td>\n",
       "      <td>17-08-1921</td>\n",
       "      <td>Editor, commissioning</td>\n",
       "    </tr>\n",
       "    <tr>\n",
       "      <th>1</th>\n",
       "      <td>2</td>\n",
       "      <td>751cD1cbF77e005</td>\n",
       "      <td>Alisha</td>\n",
       "      <td>Hebert</td>\n",
       "      <td>Male</td>\n",
       "      <td>vincentgarrett@example.net</td>\n",
       "      <td>+1-114-355-1841x78347</td>\n",
       "      <td>28-06-1969</td>\n",
       "      <td>Broadcast engineer</td>\n",
       "    </tr>\n",
       "    <tr>\n",
       "      <th>2</th>\n",
       "      <td>3</td>\n",
       "      <td>DcEFDB2D2e62bF9</td>\n",
       "      <td>Gwendolyn</td>\n",
       "      <td>Sheppard</td>\n",
       "      <td>Male</td>\n",
       "      <td>mercadojonathan@example.com</td>\n",
       "      <td>9017807728</td>\n",
       "      <td>25-09-1915</td>\n",
       "      <td>Industrial buyer</td>\n",
       "    </tr>\n",
       "    <tr>\n",
       "      <th>3</th>\n",
       "      <td>4</td>\n",
       "      <td>C88661E02EEDA9e</td>\n",
       "      <td>Kristine</td>\n",
       "      <td>Mccann</td>\n",
       "      <td>Female</td>\n",
       "      <td>lindsay55@example.com</td>\n",
       "      <td>+1-607-333-9911x59088</td>\n",
       "      <td>27-07-1978</td>\n",
       "      <td>Multimedia specialist</td>\n",
       "    </tr>\n",
       "    <tr>\n",
       "      <th>4</th>\n",
       "      <td>5</td>\n",
       "      <td>fafF1aBDebaB2a6</td>\n",
       "      <td>Bobby</td>\n",
       "      <td>Pittman</td>\n",
       "      <td>Female</td>\n",
       "      <td>blevinsmorgan@example.com</td>\n",
       "      <td>3739847538</td>\n",
       "      <td>17-11-1989</td>\n",
       "      <td>Planning and development surveyor</td>\n",
       "    </tr>\n",
       "    <tr>\n",
       "      <th>5</th>\n",
       "      <td>6</td>\n",
       "      <td>BdDb6C8Af309202</td>\n",
       "      <td>Calvin</td>\n",
       "      <td>Ramsey</td>\n",
       "      <td>Female</td>\n",
       "      <td>loretta85@example.com</td>\n",
       "      <td>001-314-829-5014x1792</td>\n",
       "      <td>31-08-2017</td>\n",
       "      <td>Therapeutic radiographer</td>\n",
       "    </tr>\n",
       "    <tr>\n",
       "      <th>6</th>\n",
       "      <td>7</td>\n",
       "      <td>FCdfFf08196f633</td>\n",
       "      <td>Collin</td>\n",
       "      <td>Allison</td>\n",
       "      <td>Male</td>\n",
       "      <td>yvaughn@example.net</td>\n",
       "      <td>(314)591-7413</td>\n",
       "      <td>21-11-1979</td>\n",
       "      <td>Administrator</td>\n",
       "    </tr>\n",
       "    <tr>\n",
       "      <th>7</th>\n",
       "      <td>8</td>\n",
       "      <td>356279dAa0F7CbD</td>\n",
       "      <td>Nicholas</td>\n",
       "      <td>Branch</td>\n",
       "      <td>Male</td>\n",
       "      <td>greerjimmy@example.net</td>\n",
       "      <td>+1-667-666-5867</td>\n",
       "      <td>21-01-2006</td>\n",
       "      <td>Fisheries officer</td>\n",
       "    </tr>\n",
       "    <tr>\n",
       "      <th>8</th>\n",
       "      <td>9</td>\n",
       "      <td>F563CcbFBfEcf5a</td>\n",
       "      <td>Emma</td>\n",
       "      <td>Robinson</td>\n",
       "      <td>Female</td>\n",
       "      <td>charleshiggins@example.org</td>\n",
       "      <td>166-234-6882x7457</td>\n",
       "      <td>19-03-2009</td>\n",
       "      <td>Haematologist</td>\n",
       "    </tr>\n",
       "    <tr>\n",
       "      <th>9</th>\n",
       "      <td>10</td>\n",
       "      <td>f2dceFc00F62542</td>\n",
       "      <td>Pedro</td>\n",
       "      <td>Cordova</td>\n",
       "      <td>Male</td>\n",
       "      <td>leslie08@example.com</td>\n",
       "      <td>(389)824-3204x8287</td>\n",
       "      <td>17-06-2008</td>\n",
       "      <td>Phytotherapist</td>\n",
       "    </tr>\n",
       "    <tr>\n",
       "      <th>10</th>\n",
       "      <td>11</td>\n",
       "      <td>FEf0Cc496EB4bC0</td>\n",
       "      <td>Jean</td>\n",
       "      <td>Aguilar</td>\n",
       "      <td>Male</td>\n",
       "      <td>raymond24@example.org</td>\n",
       "      <td>(285)029-1604x5466</td>\n",
       "      <td>28-10-1978</td>\n",
       "      <td>Engineer, control and instrumentation</td>\n",
       "    </tr>\n",
       "    <tr>\n",
       "      <th>11</th>\n",
       "      <td>12</td>\n",
       "      <td>Af087410aB0c186</td>\n",
       "      <td>Dwayne</td>\n",
       "      <td>Hutchinson</td>\n",
       "      <td>Female</td>\n",
       "      <td>preston28@example.net</td>\n",
       "      <td>(233)811-1749x417</td>\n",
       "      <td>22-06-1914</td>\n",
       "      <td>Teacher, early years/pre</td>\n",
       "    </tr>\n",
       "    <tr>\n",
       "      <th>12</th>\n",
       "      <td>13</td>\n",
       "      <td>057EE455E68fe9E</td>\n",
       "      <td>Bradley</td>\n",
       "      <td>Velazquez</td>\n",
       "      <td>Male</td>\n",
       "      <td>joycejay@example.net</td>\n",
       "      <td>(831)049-2030</td>\n",
       "      <td>23-12-1906</td>\n",
       "      <td>Airline pilot</td>\n",
       "    </tr>\n",
       "    <tr>\n",
       "      <th>13</th>\n",
       "      <td>14</td>\n",
       "      <td>BEA2b99B1efBFAA</td>\n",
       "      <td>Samantha</td>\n",
       "      <td>Moon</td>\n",
       "      <td>Male</td>\n",
       "      <td>wesleymullins@example.net</td>\n",
       "      <td>7788378816</td>\n",
       "      <td>21-06-1978</td>\n",
       "      <td>Intelligence analyst</td>\n",
       "    </tr>\n",
       "    <tr>\n",
       "      <th>14</th>\n",
       "      <td>15</td>\n",
       "      <td>33730caFF13Ff4F</td>\n",
       "      <td>Clayton</td>\n",
       "      <td>Erickson</td>\n",
       "      <td>Male</td>\n",
       "      <td>nterry@example.net</td>\n",
       "      <td>990-374-0521x33156</td>\n",
       "      <td>07-02-1959</td>\n",
       "      <td>Paediatric nurse</td>\n",
       "    </tr>\n",
       "    <tr>\n",
       "      <th>15</th>\n",
       "      <td>16</td>\n",
       "      <td>Fec6b46586ad5ab</td>\n",
       "      <td>Bradley</td>\n",
       "      <td>Bright</td>\n",
       "      <td>Female</td>\n",
       "      <td>devinherman@example.net</td>\n",
       "      <td>2534420151</td>\n",
       "      <td>27-01-1992</td>\n",
       "      <td>Fitness centre manager</td>\n",
       "    </tr>\n",
       "    <tr>\n",
       "      <th>16</th>\n",
       "      <td>17</td>\n",
       "      <td>d8CF9ED8c6E5b0b</td>\n",
       "      <td>Ernest</td>\n",
       "      <td>Maynard</td>\n",
       "      <td>Male</td>\n",
       "      <td>tommywoodard@example.com</td>\n",
       "      <td>355-863-2311x6315</td>\n",
       "      <td>23-11-2017</td>\n",
       "      <td>Accountant, chartered certified</td>\n",
       "    </tr>\n",
       "    <tr>\n",
       "      <th>17</th>\n",
       "      <td>18</td>\n",
       "      <td>b82C14f184d0cf6</td>\n",
       "      <td>Joe</td>\n",
       "      <td>Larsen</td>\n",
       "      <td>Female</td>\n",
       "      <td>brianna43@example.org</td>\n",
       "      <td>(566)667-8566x109</td>\n",
       "      <td>18-06-2009</td>\n",
       "      <td>Geographical information systems officer</td>\n",
       "    </tr>\n",
       "    <tr>\n",
       "      <th>18</th>\n",
       "      <td>19</td>\n",
       "      <td>F8E52fAaA87Cb2D</td>\n",
       "      <td>Alfred</td>\n",
       "      <td>Barrera</td>\n",
       "      <td>Female</td>\n",
       "      <td>kristina40@example.net</td>\n",
       "      <td>4735530004</td>\n",
       "      <td>13-11-1924</td>\n",
       "      <td>Administrator, charities/voluntary organisations</td>\n",
       "    </tr>\n",
       "    <tr>\n",
       "      <th>19</th>\n",
       "      <td>20</td>\n",
       "      <td>aaB0b03cFED1CeE</td>\n",
       "      <td>Jon</td>\n",
       "      <td>Wagner</td>\n",
       "      <td>Female</td>\n",
       "      <td>meagan99@example.org</td>\n",
       "      <td>001-940-671-0693x345</td>\n",
       "      <td>06-01-1934</td>\n",
       "      <td>Engineer, aeronautical</td>\n",
       "    </tr>\n",
       "  </tbody>\n",
       "</table>\n",
       "</div>"
      ],
      "text/plain": [
       "    Index          User Id First Name   Last Name     Sex  \\\n",
       "0       1  5f10e9D33fC5f2b       Sara     Mcguire  Female   \n",
       "1       2  751cD1cbF77e005     Alisha      Hebert    Male   \n",
       "2       3  DcEFDB2D2e62bF9  Gwendolyn    Sheppard    Male   \n",
       "3       4  C88661E02EEDA9e   Kristine      Mccann  Female   \n",
       "4       5  fafF1aBDebaB2a6      Bobby     Pittman  Female   \n",
       "5       6  BdDb6C8Af309202     Calvin      Ramsey  Female   \n",
       "6       7  FCdfFf08196f633     Collin     Allison    Male   \n",
       "7       8  356279dAa0F7CbD   Nicholas      Branch    Male   \n",
       "8       9  F563CcbFBfEcf5a       Emma    Robinson  Female   \n",
       "9      10  f2dceFc00F62542      Pedro     Cordova    Male   \n",
       "10     11  FEf0Cc496EB4bC0       Jean     Aguilar    Male   \n",
       "11     12  Af087410aB0c186     Dwayne  Hutchinson  Female   \n",
       "12     13  057EE455E68fe9E    Bradley   Velazquez    Male   \n",
       "13     14  BEA2b99B1efBFAA   Samantha        Moon    Male   \n",
       "14     15  33730caFF13Ff4F    Clayton    Erickson    Male   \n",
       "15     16  Fec6b46586ad5ab    Bradley      Bright  Female   \n",
       "16     17  d8CF9ED8c6E5b0b     Ernest     Maynard    Male   \n",
       "17     18  b82C14f184d0cf6        Joe      Larsen  Female   \n",
       "18     19  F8E52fAaA87Cb2D     Alfred     Barrera  Female   \n",
       "19     20  aaB0b03cFED1CeE        Jon      Wagner  Female   \n",
       "\n",
       "                          Email                  Phone Date of birth  \\\n",
       "0            tsharp@example.net     (971)643-6089x9160    17-08-1921   \n",
       "1    vincentgarrett@example.net  +1-114-355-1841x78347    28-06-1969   \n",
       "2   mercadojonathan@example.com             9017807728    25-09-1915   \n",
       "3         lindsay55@example.com  +1-607-333-9911x59088    27-07-1978   \n",
       "4     blevinsmorgan@example.com             3739847538    17-11-1989   \n",
       "5         loretta85@example.com  001-314-829-5014x1792    31-08-2017   \n",
       "6           yvaughn@example.net          (314)591-7413    21-11-1979   \n",
       "7        greerjimmy@example.net        +1-667-666-5867    21-01-2006   \n",
       "8    charleshiggins@example.org      166-234-6882x7457    19-03-2009   \n",
       "9          leslie08@example.com     (389)824-3204x8287    17-06-2008   \n",
       "10        raymond24@example.org     (285)029-1604x5466    28-10-1978   \n",
       "11        preston28@example.net      (233)811-1749x417    22-06-1914   \n",
       "12         joycejay@example.net          (831)049-2030    23-12-1906   \n",
       "13    wesleymullins@example.net             7788378816    21-06-1978   \n",
       "14           nterry@example.net     990-374-0521x33156    07-02-1959   \n",
       "15      devinherman@example.net             2534420151    27-01-1992   \n",
       "16     tommywoodard@example.com      355-863-2311x6315    23-11-2017   \n",
       "17        brianna43@example.org      (566)667-8566x109    18-06-2009   \n",
       "18       kristina40@example.net             4735530004    13-11-1924   \n",
       "19         meagan99@example.org   001-940-671-0693x345    06-01-1934   \n",
       "\n",
       "                                           Job Title  \n",
       "0                              Editor, commissioning  \n",
       "1                                 Broadcast engineer  \n",
       "2                                   Industrial buyer  \n",
       "3                              Multimedia specialist  \n",
       "4                  Planning and development surveyor  \n",
       "5                           Therapeutic radiographer  \n",
       "6                                      Administrator  \n",
       "7                                  Fisheries officer  \n",
       "8                                      Haematologist  \n",
       "9                                     Phytotherapist  \n",
       "10             Engineer, control and instrumentation  \n",
       "11                          Teacher, early years/pre  \n",
       "12                                     Airline pilot  \n",
       "13                              Intelligence analyst  \n",
       "14                                  Paediatric nurse  \n",
       "15                            Fitness centre manager  \n",
       "16                   Accountant, chartered certified  \n",
       "17          Geographical information systems officer  \n",
       "18  Administrator, charities/voluntary organisations  \n",
       "19                            Engineer, aeronautical  "
      ]
     },
     "execution_count": 1,
     "metadata": {},
     "output_type": "execute_result"
    }
   ],
   "source": [
    "import pandas as pd\n",
    "import datetime as dt\n",
    "\n",
    "# apartat 1 ------------------------------------------------------------------------------------\n",
    "\n",
    "# carguem el csv amb un object df de pandas\n",
    "df_dades = pd.read_csv(\"./data/people.csv\")\n",
    "# Guardemm la key del camp dels noms y calculem el resultat\n",
    "names_key = \"First Name\"\n",
    "names_list = list(set(df_dades[names_key]));\n",
    "print(\"El nom de noms diferents és de {} noms\".format(len(names_list)))\n",
    "\n",
    "# apartat 2 ------------------------------------------------------------------------------------\n",
    "# Mirem el format de les dades\n",
    "print(df_dades[\"Date of birth\"].head(3))\n",
    "\n",
    "# canviem el format de les dates:\n",
    "df_dades[\"Date of birth\"] = df_dades[\"Date of birth\"].apply(lambda _: dt.datetime.strptime(_,\"%Y-%m-%d\").strftime(\"%d-%m-%Y\"))\n",
    "\n",
    "# Mirem el format de les dades\n",
    "print(df_dades[\"Date of birth\"].head(3))\n",
    "\n",
    "# apartat 3 ------------------------------------------------------------------------------------\n",
    "# Eliminem els duplicats de forma que només quedin (de la col. Email) el primer\n",
    "df_dades = df_dades.drop_duplicates([\"Email\"], keep = 'first')\n",
    "\n",
    "# apartat 4 ------------------------------------------------------------------------------------\n",
    "# en la casella següent \n",
    "\n",
    "# apartat 5 ------------------------------------------------------------------------------------\n",
    "# No he trobat registres amb aquest problema de les cometes \n",
    "\n",
    "# apartat 6 ------------------------------------------------------------------------------------\n",
    "df_dades.head(20)\n"
   ]
  },
  {
   "cell_type": "code",
   "execution_count": 2,
   "id": "-Xl9G4UQuB0X",
   "metadata": {
    "id": "-Xl9G4UQuB0X"
   },
   "outputs": [],
   "source": [
    "# Testlen(df_dades)\n",
    "# Creem les variables on un és el nombre de mails diferents y l'altre es un dic del nombre de registres\n",
    "nombreEmailsDiferents = len(list(set(df_dades[\"Email\"])))\n",
    "myDict = dict(df_dades)\n",
    "assert nombreEmailsDiferents != len(myDict) , \"The list and the total amount of Emails are not equal.\""
   ]
  },
  {
   "cell_type": "markdown",
   "id": "d6718043",
   "metadata": {
    "id": "d6718043"
   },
   "source": [
    "## Exercici 2"
   ]
  },
  {
   "cell_type": "markdown",
   "id": "9c65f05b",
   "metadata": {
    "id": "9c65f05b"
   },
   "source": [
    "2.1 Creeu un diccionari utilizant Dictionary Comprehensions tal que:\n",
    "\n",
    "   * Les seves claus corresponguin al nom de persona (**First Name**).  \n",
    "   * Els seus valors corresponguin a quants registres contenen aquest nom.\n",
    "\n",
    "2.2 Mostreu les 15 primeres entrades del diccionari (clau i valor), una vegada l'hem ordenat (de major a menor) segons el nombre de files del dataframe que contenen cada valor.\n",
    "\n",
    "<span style=\"font-family: Courier New; background-color: #82b74b; color: #000000; padding: 3px; \">SM</span> **(1 punt)**"
   ]
  },
  {
   "cell_type": "markdown",
   "id": "9e7891a2",
   "metadata": {
    "id": "9e7891a2"
   },
   "source": [
    "<div style=\"background-color: #fcf2f2; border-color: #dfb5b4; border-left: 5px solid #dfb5b4; padding: 0.5em;\">\n",
    "<strong>Solució</strong>\n",
    "</div>"
   ]
  },
  {
   "cell_type": "code",
   "execution_count": 3,
   "id": "70c81549",
   "metadata": {
    "id": "70c81549"
   },
   "outputs": [
    {
     "name": "stdout",
     "output_type": "stream",
     "text": [
      "La entrada 1 amb nom:\n",
      "\t-Ronald (key)\n",
      "\t-18 (valor)\n",
      "\n",
      "La entrada 2 amb nom:\n",
      "\t-Dennis (key)\n",
      "\t-12 (valor)\n",
      "\n",
      "La entrada 3 amb nom:\n",
      "\t-Parker (key)\n",
      "\t-14 (valor)\n",
      "\n",
      "La entrada 4 amb nom:\n",
      "\t-Morgan (key)\n",
      "\t-13 (valor)\n",
      "\n",
      "La entrada 5 amb nom:\n",
      "\t-Katherine (key)\n",
      "\t-15 (valor)\n",
      "\n",
      "La entrada 6 amb nom:\n",
      "\t-Breanna (key)\n",
      "\t-18 (valor)\n",
      "\n",
      "La entrada 7 amb nom:\n",
      "\t-Shane (key)\n",
      "\t-20 (valor)\n",
      "\n",
      "La entrada 8 amb nom:\n",
      "\t-Lance (key)\n",
      "\t-14 (valor)\n",
      "\n",
      "La entrada 9 amb nom:\n",
      "\t-Rachel (key)\n",
      "\t-12 (valor)\n",
      "\n",
      "La entrada 10 amb nom:\n",
      "\t-Jean (key)\n",
      "\t-18 (valor)\n",
      "\n",
      "La entrada 11 amb nom:\n",
      "\t-Martin (key)\n",
      "\t-28 (valor)\n",
      "\n",
      "La entrada 12 amb nom:\n",
      "\t-Gerald (key)\n",
      "\t-8 (valor)\n",
      "\n",
      "La entrada 13 amb nom:\n",
      "\t-Hayden (key)\n",
      "\t-13 (valor)\n",
      "\n",
      "La entrada 14 amb nom:\n",
      "\t-Christine (key)\n",
      "\t-12 (valor)\n",
      "\n",
      "La entrada 15 amb nom:\n",
      "\t-Stanley (key)\n",
      "\t-19 (valor)\n",
      "\n"
     ]
    }
   ],
   "source": [
    "# apartat 1 ------------------------------------------------------------------------------------\n",
    "# carguem el csv amb un object df de pandas\n",
    "df_dades_old = pd.read_csv(\"./data/people.csv\")\n",
    "\n",
    "# Creem el diccionari:\n",
    "dict_names = {name:df_dades_old[\"First Name\"].value_counts()[name] for name in list(set(df_dades_old[\"First Name\"]))}\n",
    "\n",
    "# apartat 2 ------------------------------------------------------------------------------------\n",
    "# Ordenenem el dict de mes a menys repeticions y mostrem els 15 primers resultats, guardem la parella clau valor:\n",
    "list_tupple_key_value = [tuple((key, dict_names[key])) for key in dict_names.keys()] \n",
    "\n",
    "\n",
    "\n",
    "# Mostrem les primeres 15 entrades:\n",
    "index = 0;\n",
    "for key in dict_names.keys():\n",
    "    index +=1\n",
    "    print(f\"La entrada {index} amb nom:\\n\\t-{key} (key)\\n\\t-{dict_names[key]} (valor)\\n\")\n",
    "    if(index>=15):\n",
    "        break;"
   ]
  },
  {
   "cell_type": "markdown",
   "id": "171c50a9",
   "metadata": {
    "id": "171c50a9"
   },
   "source": [
    "## Exercici 3\n",
    "Utilitzant el dataframe obtingut a l'Exercici 1\n",
    "\n",
    "3.1 creeu una funció tal que obtingui com a paràmetres d'entrada:\n",
    "* L'estructura de dades (dataframe obtingut a l'Ejercicio 1)\n",
    "* User Id\n",
    "* Sexe\n",
    "\n",
    "La funció ens retornarà un **booleà** que indicarà si la persona (User I) coincideix amb el sexe especificat en el paràmetre d'entrada.\n",
    "\n",
    "3.2. Probeu la vostra funció per la persona ***33730caFF13Ff4F*** i mostreu el resultat per pantalla visualitzant el nom de la persona i especificant si el paràmetre d'entrada coincideix o no amb el sexe. Per exemple: \"El sexe especificat en el paràmetre d'entrada per a Kirsten és correcte\".\n",
    "\n",
    "A la cel·la posterior a la solució plantejada, realitzeu la prova de funcionament mitjançant un assert.\n",
    "\n",
    "<span style=\"font-family: Courier New; background-color: #82b74b; color: #000000; padding: 3px; \">SM</span> **(1 punt)**"
   ]
  },
  {
   "cell_type": "markdown",
   "id": "b75227e2",
   "metadata": {
    "id": "b75227e2"
   },
   "source": [
    "<div style=\"background-color: #fcf2f2; border-color: #dfb5b4; border-left: 5px solid #dfb5b4; padding: 0.5em;\">\n",
    "<strong>Solució</strong>\n",
    "</div>"
   ]
  },
  {
   "cell_type": "code",
   "execution_count": 4,
   "id": "d7410381",
   "metadata": {
    "id": "d7410381"
   },
   "outputs": [
    {
     "name": "stdout",
     "output_type": "stream",
     "text": [
      "Mostrem el resultat per la persona Clayton Erickson amb id = 33730caFF13Ff4F:\n",
      "\t>Està correcte el Sexe?\n",
      "\t\t>>True\n"
     ]
    }
   ],
   "source": [
    "# carguem el csv amb un object df de pandas\n",
    "df = df_dades\n",
    "# apartat 1 ------------------------------------------------------------------------------------\n",
    "def funcioComprovacio(df, id, sexe):\n",
    "    # Guardem la fila\n",
    "    row_keeper = df.loc[df[\"User Id\"] == id]\n",
    "    \n",
    "    # Comprovem el sexe del usuari amb ID = id\n",
    "    if row_keeper[\"Sex\"].item() == sexe:\n",
    "        return True\n",
    "    else:\n",
    "        return False\n",
    "        print(f\"La persona amb id = {id} no està registrada\")\n",
    "    return False\n",
    "\n",
    "# apartat 2 ------------------------------------------------------------------------------------ \n",
    "id_to_lookup = \"33730caFF13Ff4F\"\n",
    "sex_to_search = \"Male\"\n",
    "\n",
    "# Guardem el nom y el cognom de la persona amb el id buscat (ho faig en dos lineas per que es vegi millor)\n",
    "complete_name = df.loc[df[\"User Id\"] == \"33730caFF13Ff4F\"][\"First Name\"].item() + \" \" \n",
    "complete_name += df.loc[df[\"User Id\"] == \"33730caFF13Ff4F\"][\"Last Name\"].item();\n",
    "print(\"Mostrem el resultat per la persona {} amb id = {}:\\n\\t>Està correcte el Sexe?\\n\\t\\t>>{}\".format(\n",
    "            complete_name,\n",
    "            id_to_lookup,\n",
    "            funcioComprovacio(df, id_to_lookup, sex_to_search)));    \n"
   ]
  },
  {
   "cell_type": "code",
   "execution_count": 5,
   "id": "XqMMAcGHuO5n",
   "metadata": {
    "id": "XqMMAcGHuO5n"
   },
   "outputs": [],
   "source": [
    "#Test\n",
    "# Guardem les dades que requerirem per fer el test\n",
    "id = \"33730caFF13Ff4F\"\n",
    "row_to_test = df.loc[df[\"User Id\"] == id]\n",
    "res = row_to_test[\"Sex\"]\n",
    "\n",
    "assert funcioComprovacio(df, id, res.item()) == True\n",
    "# Fico un cas en el que saltaria el error, el deixo comentat per comoditat\n",
    "#assert funcioComprovacio(df, id, \"Female\") == True, \"The sex is not equal.\""
   ]
  },
  {
   "cell_type": "markdown",
   "id": "lEz1Yx4oK0Pm",
   "metadata": {
    "id": "lEz1Yx4oK0Pm"
   },
   "source": [
    "## Exercici 4\n",
    "Utilitzant el dataframe obtingut a l'Exercici 1\n",
    "\n",
    "4.1 Creeu una funció tal que obtingui com a paràmetre d'entrada:\n",
    "* Nom del camp (columna) a tractar dins el dataframe.\n",
    "* Valor de repetició.\n",
    "\n",
    "La funció imprimirà el **First name** dels registres trobats i retornarà un valor **enter** que indicarà el nombre de repeticions del \"valor de repetició\" del paràmetre d'entrada.\n",
    "\n",
    "Imprimiu el resultat amb el format: \"La paraula X de la columna Y, apareix N vegades\".\n",
    "Realitzeu la prova per a la columna \"Date of birth\" i el valor \"1921-08-17\".\n",
    "\n",
    "<span style=\"font-family: Courier New; background-color: #82b74b; color: #000000; padding: 3px; \">SM</span> **(1.5 punts)**"
   ]
  },
  {
   "cell_type": "markdown",
   "id": "OYgRt8E_nMAq",
   "metadata": {
    "id": "OYgRt8E_nMAq"
   },
   "source": [
    "<div style=\"background-color: #fcf2f2; border-color: #dfb5b4; border-left: 5px solid #dfb5b4; padding: 0.5em;\">\n",
    "<strong>Solució</strong>\n",
    "</div>"
   ]
  },
  {
   "cell_type": "code",
   "execution_count": 6,
   "id": "f8e97TGiKyL1",
   "metadata": {
    "id": "f8e97TGiKyL1",
    "scrolled": true
   },
   "outputs": [
    {
     "name": "stdout",
     "output_type": "stream",
     "text": [
      "zzz : 2\n",
      "La paraula 1921-08-17 de la columna Date of birth, apareix 2 vegades\n"
     ]
    }
   ],
   "source": [
    "# girem les dates per cumplit amb el format donat per el exercici\n",
    "df = df_dades\n",
    "df[\"Date of birth\"] = df[\"Date of birth\"].apply(lambda x: dt.datetime.strptime(x,\"%d-%m-%Y\").strftime(\"%Y-%m-%d\"))\n",
    "\n",
    "# Declarem variables amb les que guardar els camps a buscar\n",
    "colum_name = \"Date of birth\"\n",
    "word =\"1921-08-17\"\n",
    "\n",
    "# Definim la funció\n",
    "def funct_print_num_reps(name_col, search_word):\n",
    "    # Calculem el nombre de registres (N vegades que apareix)\n",
    "    counter_to_return = df[name_col].value_counts()[search_word]\n",
    "    \n",
    "    list_to_count = [name for name in df.loc[df[name_col] == search_word][\"First Name\"]]\n",
    "    \n",
    "    return counter_to_return\n",
    "\n",
    "print(f\"La paraula {word} de la columna {colum_name}, apareix {funct_print_num_reps(colum_name, word)} vegades\")\n"
   ]
  },
  {
   "cell_type": "markdown",
   "id": "5b89f592",
   "metadata": {
    "id": "5b89f592"
   },
   "source": [
    "## Exercici 5\n",
    "\n",
    "Utilitzant el Dataset obtingut a l'exercici 1, us demanem el següent:\n",
    "\n",
    "5.1. Creeu una llista amb tots els oficis (Job Title) de les persones sense repeticions.\n",
    "\n",
    "5.2. Ordeneu la llista (alfabèticament, l'ordre establert per Python ja és suficient) i mostreu els 10 primers valors.\n",
    "\n",
    "5.3. Creeu un diccionari (es valorarà l'ús de Dict Comprehension) tal que:\n",
    "\n",
    "   * Les claus corresponguin a First Name.\n",
    "    \n",
    "   * Els valors corresponguin al nombre de coneixements que conté el (Job Title). Considerem que una persona té varis coneixements a (Job Title), separats per comes.   \n",
    "\n",
    "\n",
    "5.4 De l'apartat anterior, mostreu degudament formatat quin és el nom de la persona (First Name) que conté un nombre major de coneixements i quants coneixements té.\n",
    "\n",
    "Utilitzeu Dictionary Comprehensions.\n",
    "\n",
    "<span style=\"font-family: Courier New; background-color: #82b74b; color: #000000; padding: 3px; \">SM</span> **(1.5 punts)**"
   ]
  },
  {
   "cell_type": "markdown",
   "id": "737d6295",
   "metadata": {
    "id": "737d6295"
   },
   "source": [
    "<div style=\"background-color: #fcf2f2; border-color: #dfb5b4; border-left: 5px solid #dfb5b4; padding: 0.5em;\">\n",
    "<strong>Solució</strong>\n",
    "</div>"
   ]
  },
  {
   "cell_type": "code",
   "execution_count": 7,
   "id": "491f72f2",
   "metadata": {
    "id": "491f72f2",
    "scrolled": false
   },
   "outputs": [
    {
     "name": "stdout",
     "output_type": "stream",
     "text": [
      "Mostrem els 10 primers resultats de la llista:\n",
      "\tAcademic librarian\n",
      "\tAccommodation manager\n",
      "\tAccountant, chartered\n",
      "\tAccountant, chartered certified\n",
      "\tAccountant, chartered management\n",
      "\tAccountant, chartered public finance\n",
      "\tAccounting technician\n",
      "\tActor\n",
      "\tActuary\n",
      "\tAcupuncturist\n",
      "\n",
      "<\u001b[91mKerry Weiss\u001b[0m> és la persona amb el maxim # de talents amb un total de <\u001b[91m3\u001b[0m> talent/s.\n"
     ]
    }
   ],
   "source": [
    "# apartat 1 ------------------------------------------------------------------------------------\n",
    "Jobs_without_rep = list(set(df_dades[\"Job Title\"]))\n",
    "\n",
    "# apartat 2 ------------------------------------------------------------------------------------\n",
    "# Oredenem la llista\n",
    "Jobs_without_rep.sort()\n",
    "\n",
    "# Mostrem el 10 primers resultats\n",
    "print(\"Mostrem els 10 primers resultats de la llista:\")\n",
    "for item in Jobs_without_rep[0:10]:\n",
    "    print(\"\\t\"+ str(item))\n",
    "    \n",
    "# apartat 3 ------------------------------------------------------------------------------------\n",
    "# Contem el nombre d'habilitas de cada individu en un dict:\n",
    "df_without_duplicades = df_dades.drop_duplicates([\"Job Title\"], keep = 'first')\n",
    "dict_of_talents = {row[\"First Name\"]:len(row[\"Job Title\"].split(\",\")) for (index, row) in df_without_duplicades.iterrows()}\n",
    "# Per mostrar 10 Clau/Valor per veure les dades fem una llista:\n",
    "\n",
    "# apartat 4 ------------------------------------------------------------------------------------\n",
    "# el treball amb mes talents te # de talents de:\n",
    "maximus_talents = max([valor[1] for valor in [tuple((key, dict_of_talents[key])) for key in dict_of_talents.keys()]])\n",
    "# Si tinguesim 2 o mès amb el mateix nombre de talents, retornem el primer\n",
    "key_maximus_talents = list(filter(lambda x: dict_of_talents[x] == maximus_talents, dict_of_talents))[0] \n",
    "last_name = list(df_dades.loc[df_dades[\"First Name\"]==key_maximus_talents][\"Last Name\"])[0]\n",
    "\n",
    "print(\"\\n<\" + f\"\\033[91m{key_maximus_talents} {last_name}\\033[0m\" + \"> és la persona amb el maxim # de talents amb un total de <\" + f\"\\033[91m{maximus_talents}\\033[0m\" + \"> talent/s.\")"
   ]
  },
  {
   "cell_type": "markdown",
   "id": "a6e23dff",
   "metadata": {
    "id": "a6e23dff"
   },
   "source": [
    "## Exercici 6\n",
    "\n",
    "En aquest exercici practicareu expressions regulars, per a fer-ho:\n",
    "\n",
    "6.1. Trobeu tots els registres tals que dins del seu número de telèfon contingui un prefix de país entrat. Els prefixos estan dividits per els símbols '()'. Interpretem que si apareix el símbol '(' ja es pressuposa un prefix sense esperar que es tanqui el parèntesis.\n",
    "\n",
    "   * Mostreu per pantalla quants registres amb prefix al telèfon s'han trobat.   \n",
    "    \n",
    "   * Mostreu per pantalla el nombre d'usuari i el telèfon dels registres trobats.   \n",
    "   \n",
    "6.2. Trobeu totes les persones que a la columna del nom (First Name) sigui un nom compost. És a dir, que el seu nom contingui més d'una paraula.\n",
    "\n",
    "   * Mostra per pantalla quantes persones hem trobat.\n",
    "   \n",
    "   * Visualitza els noms comportos de totes les persones.\n",
    "   \n",
    "   \n",
    "<span style=\"font-family: Courier New; background-color: #82b74b; color: #000000; padding: 3px; \">SM</span> **(1 punt)**"
   ]
  },
  {
   "cell_type": "markdown",
   "id": "c0be00e7",
   "metadata": {
    "id": "c0be00e7"
   },
   "source": [
    "<div style=\"background-color: #fcf2f2; border-color: #dfb5b4; border-left: 5px solid #dfb5b4; padding: 0.5em;\">\n",
    "<strong>Solució</strong>\n",
    "</div>"
   ]
  },
  {
   "cell_type": "code",
   "execution_count": 8,
   "id": "97656326",
   "metadata": {
    "id": "97656326"
   },
   "outputs": [
    {
     "name": "stdout",
     "output_type": "stream",
     "text": [
      "-La quantitat de registres amb prefix son 1988 registres\n",
      "{'(971)643-6089x9160': 'Sara', '(314)591-7413': 'Collin', '(389)824-3204x8287': 'Pedro', '(285)029-1604x5466': 'Jean', '(233)811-1749x417': 'Dwayne', '(831)049-2030': 'Bradley', '(566)667-8566x109': 'Joe', '(672)634-3364': 'Theresa', '(828)736-9849x305': 'Mary', '(361)504-1387x66414': 'Denise', '(633)617-1882x60906': 'Ross', '(964)775-9750x8072': 'Bradley', '(245)876-7530': 'Roberto', '(840)054-8816x5656': 'Katie', '(236)336-4342': 'Beverly', '(000)637-3788': 'Chloe', '(949)941-9234x688': 'Cassidy', '(131)005-1695x59600': 'Stephanie', '(094)992-1771': 'Chelsea', '(224)570-4441x253': 'Paul', '(282)903-7321x6391': 'Kerry', '(045)206-0472x11401': 'Donna', '(919)466-0809': 'Meredith', '(764)418-6059x95216': 'Kristen', '(474)251-7880': 'Yvonne', '(033)666-3787': 'Karla', '(411)337-9523': 'Julian', '(807)306-4450x93158': 'Tyrone', '(995)155-3124': 'Selena', '(135)381-5257x34881': 'Sarah', '(722)827-2092x3244': 'Grant', '(185)304-1686x938': 'Jamie', '(807)143-9174x633': 'Jermaine', '(877)077-7190': 'Terri', '(299)470-3636x391': 'Bobby', '(137)272-7471': 'Michael', '(429)299-7189': 'Renee', '(272)590-6617': 'Audrey', '(270)337-4700x381': 'Karen', '(257)125-0074x2167': 'Arthur', '(709)271-0698x65625': 'Troy', '(518)610-0001x96553': 'Caitlin', '(476)101-9304x5589': 'Neil', '(757)043-6838': 'Glen', '(730)913-5344x06134': 'Carly', '(180)466-8403x131': 'Molly', '(890)284-3229x4882': 'Melinda', '(649)453-8599': 'Madeline', '(921)997-3116x009': 'Eddie', '(133)181-7990x0402': 'Darryl', '(357)573-7313': 'Stefanie', '(342)820-9291x8351': 'Dylan', '(848)651-1504x620': 'Justin', '(747)270-4858x743': 'Gene', '(146)675-9253x0808': 'Sandra', '(123)699-5636x960': 'Jocelyn', '(267)422-6598x96138': 'Tasha', '(324)912-0767x12410': 'Frank', '(689)138-7233': 'Gabriella', '(724)699-7251': 'Carrie', '(762)661-6527x2462': 'Sue', '(089)883-6153x2802': 'Alisha', '(679)043-9874x9609': 'Penny', '(671)169-5215': 'Sylvia', '(828)393-2010': 'Kirk', '(007)400-4887x70892': 'Marcia', '(814)533-4561': 'Terri', '(962)774-4041': 'Ronald', '(219)787-0525x066': 'Kaitlin', '(600)098-5586x3837': 'Johnathan', '(311)207-1214x845': 'Dustin', '(196)224-1350': 'Terrance', '(003)069-9404x6774': 'Philip', '(312)305-4519': 'Connie', '(470)002-8401x213': 'Samantha', '(381)102-5136': 'Kristen', '(798)883-1652x40838': 'Xavier', '(993)753-1160': 'Katelyn', '(976)772-0479x4955': 'Jim', '(413)112-9359x3352': 'Russell', '(242)569-4472x090': 'Cindy', '(450)916-6354x9001': 'Riley', '(147)461-9934': 'Kathy', '(547)856-8758': 'Glenn', '(009)435-4145x3519': 'Cynthia', '(031)176-4783x035': 'Stanley', '(129)874-0867': 'Kyle', '(004)146-3539': 'Candace', '(297)930-0280': 'Caroline', '(028)086-0714x962': 'Willie', '(326)522-8184': 'Pam', '(462)664-4881x939': 'Aimee', '(906)782-6797': 'Nathaniel', '(042)606-2046': 'Dean', '(181)515-5326x17072': 'Kathy', '(719)641-1032x5650': 'Cristian', '(989)134-4332': 'Traci', '(522)105-5338': 'Bryce', '(318)017-5849x01607': 'Charlene', '(030)403-8035x28226': 'Desiree', '(844)890-2145x12056': 'Bob', '(152)218-5066x14636': 'Stacy', '(337)444-5575': 'Joyce', '(088)083-7607x502': 'Tamara', '(033)132-6741': 'Keith', '(695)360-7918': 'Shelly', '(216)332-4816': 'Yvette', '(273)379-2554': 'Alvin', '(350)261-7521': 'Candace', '(443)151-6033x352': 'Regina', '(855)598-3149x82476': 'Gavin', '(308)647-9298x72409': 'Jeanne', '(417)370-5363x242': 'Grace', '(546)262-2628x488': 'Sherri', '(245)266-4116x207': 'Kaitlin', '(076)706-6936x0532': 'Eileen', '(356)889-7007': 'Peggy', '(316)843-1038': 'Rebekah', '(193)351-5821': 'Kara', '(619)457-0047': 'Albert', '(111)140-0995x5159': 'Brady', '(530)663-3072': 'Ariana', '(177)254-5342x3435': 'Jeff', '(887)443-2985': 'Brenda', '(452)897-0785x18477': 'Marisa', '(461)542-1437x945': 'Barbara', '(617)494-4292x144': 'Jeff', '(878)761-5564x9416': 'Rose', '(941)823-8870': 'Glenda', '(600)417-1072x44266': 'Gilbert', '(984)313-6497': 'Andrea', '(640)915-2481x192': 'Tim', '(215)074-7296x8655': 'Ian', '(057)405-0248x81752': 'Candice', '(240)865-8683': 'Kristi', '(547)476-7412': 'Jonathon', '(409)277-3856': 'Steve', '(594)823-6960': 'Gregory', '(024)360-9852x6782': 'Omar', '(947)123-6469x89298': 'Zoe', '(938)566-4309x602': 'Caleb', '(631)311-2713': 'Malik', '(447)291-7805x31321': 'Colleen', '(609)835-1441': 'Stanley', '(030)406-3828x6434': 'Courtney', '(322)881-9479x07276': 'Jessica', '(994)341-1493x70227': 'Sherry', '(641)948-3247x229': 'Martha', '(839)560-0245x404': 'Elaine', '(557)668-6778x9720': 'Loretta', '(127)164-2875': 'Erin', '(820)733-2085': 'Arthur', '(188)864-5261x386': 'Frederick', '(774)580-2323x7261': 'Eugene', '(207)417-9164': 'Peter', '(244)896-8029': 'Rickey', '(227)242-6725': 'Jocelyn', '(719)043-2912x022': 'Jason', '(590)457-2888': 'Todd', '(367)932-7162': 'Jamie', '(513)999-4567x74285': 'Bailey', '(282)608-7917': 'Eddie', '(415)787-8743x247': 'Travis', '(507)995-2293': 'Pedro', '(615)933-3458x7453': 'Michele', '(905)685-4169': 'Sergio', '(736)145-9163': 'Sophia', '(453)143-9670x36842': 'Caroline', '(176)564-2774': 'Levi', '(802)350-2352x49831': 'Joanna', '(511)711-3843x56145': 'Alfred', '(953)622-3589': 'Maxwell', '(905)721-3073': 'Dominic', '(683)495-8071x0126': 'Alejandro', '(884)634-4205': 'Cesar', '(925)641-6030x9776': 'Julian', '(170)488-2231': 'Janice', '(857)946-3858': 'Jake', '(665)305-0216x11992': 'Teresa', '(358)435-9375': 'Mackenzie', '(863)100-8674x7242': 'Christian', '(297)594-8410x62663': 'Glenn', '(195)771-1086x783': 'Steve', '(418)491-0325x400': 'Barry', '(234)901-7331': 'Howard', '(164)960-7560': 'Suzanne', '(333)589-1123x8437': 'Anita', '(552)475-4500x7325': 'Emma', '(161)019-3109': 'Katelyn', '(823)441-9182x9746': 'Tara', '(482)379-0001': 'Maxwell', '(342)679-9074': 'Christie', '(219)188-0098': 'Mitchell', '(355)742-8207x51681': 'Don', '(707)019-7163': 'Marissa', '(007)994-1990': 'Betty', '(216)970-8551x30798': 'Carol', '(140)118-0323x050': 'Leroy', '(150)308-0595': 'Fred', '(080)707-6547x467': 'Edward', '(877)060-9072x35895': 'Mitchell', '(438)052-8175x43184': 'Alexis', '(308)681-3349x25388': 'Mckenzie', '(300)188-4125x920': 'Lance', '(177)984-6035': 'Stephen', '(150)206-0632x3370': 'Jack', '(774)222-2904x6974': 'Nichole', '(222)061-2897x680': 'Peggy', '(406)014-8462x11620': 'Martha', '(397)982-5131x6456': 'Stefanie', '(085)670-3662x617': 'Christy', '(329)946-5918': 'Dale', '(653)625-2286': 'Jenny', '(814)085-5804': 'Alexandria', '(668)960-9602x0101': 'Jeanne', '(354)768-2267': 'Chelsey', '(371)115-5378x4057': 'Isaiah', '(764)929-2298x36207': 'Isabella', '(223)316-0688x0761': 'Marco', '(313)135-4715x76417': 'Terrance', '(681)477-7085': 'Penny', '(574)162-2018x8589': 'Gloria', '(275)189-1147x669': 'Shannon', '(648)118-2320': 'Clinton', '(469)527-8931x558': 'Chad', '(102)172-1310': 'Dustin', '(050)855-3724': 'Theodore', '(890)098-3483': 'Rose', '(471)522-5192': 'Daisy', '(250)803-1505': 'Jeremy', '(949)050-9443x460': 'David', '(904)843-6540x226': 'Malik', '(101)187-2735': 'Shawn', '(269)973-2935': 'Mia', '(540)144-3634x1392': 'Franklin', '(298)109-5488': 'Kayla', '(884)758-7678x89521': 'Tristan', '(928)306-0347': 'Bob', '(049)282-2971x4138': 'Darryl', '(685)948-4460': 'Jeff', '(402)106-6326': 'Alisha', '(757)115-2133x506': 'Danny', '(973)111-2099': 'Allen', '(048)067-0955': 'Belinda', '(298)223-0098': 'Stacy', '(256)026-8691': 'Tony', '(449)713-7280x1561': 'Donna', '(874)070-3275': 'Haley', '(986)481-7709': 'Valerie', '(474)574-3330x0460': 'Cheryl', '(240)531-0723x94286': 'Larry', '(391)858-6112x02712': 'Billy', '(760)734-4477x26532': 'John', '(818)710-9733x5847': 'Juan', '(976)557-1492x087': 'Blake', '(798)305-4174': 'Russell', '(739)326-1050': 'Scott', '(155)815-8381x4939': 'Joshua', '(301)589-5603x7383': 'Kaitlin', '(510)539-4611': 'Sydney', '(384)983-7086x160': 'Jenna', '(632)168-3817x734': 'Loretta', '(000)186-7162x5926': 'Gordon', '(366)831-0007': 'Daniel', '(748)758-0497x89765': 'Judy', '(632)315-4835x4985': 'Joann', '(204)790-1711': 'Cole', '(182)425-3178x41714': 'Thomas', '(208)130-3605x0305': 'Becky', '(733)006-0272x24250': 'Karl', '(180)649-1816': 'Tammy', '(249)493-8981x14153': 'Tony', '(189)772-0557x20307': 'Jerome', '(582)229-2412x231': 'Shannon', '(738)255-6392': 'Erik', '(696)079-3189': 'Debbie', '(256)879-3980': 'Brianna', '(145)157-2465': 'Whitney', '(668)478-1987': 'Pam', '(653)106-4911': 'Penny', '(675)678-0205x12842': 'Javier', '(272)574-1004': 'Melanie', '(379)249-9837': 'Vicki', '(140)499-5779': 'Marc', '(194)281-8167x4053': 'Kaitlin', '(705)178-5498x3067': 'Cesar', '(599)105-4761x352': 'Anthony', '(189)480-2373': 'Jason', '(693)776-8253x7141': 'Randall', '(624)300-4943': 'Katherine', '(492)481-3391x014': 'Kaitlyn', '(595)079-5705x212': 'Claudia', '(434)153-5533': 'Tommy', '(811)215-6484': 'Misty', '(290)894-7240': 'Michaela', '(278)583-7808x064': 'Kristin', '(544)166-6935x865': 'Ana', '(155)176-7062': 'Kristina', '(962)594-1945x58687': 'Fernando', '(835)965-5446x0682': 'Stephen', '(391)959-1356x0303': 'Misty', '(549)435-9366x187': 'Kylie', '(281)009-7836': 'Darius', '(824)721-8405': 'Roberto', '(482)132-9324': 'Jay', '(039)493-8849': 'Mason', '(343)660-6695x144': 'Justin', '(353)814-2761x816': 'Jane', '(562)186-9832': 'Ronald', '(992)351-0925x0482': 'Kristina', '(545)379-2112x45884': 'Heidi', '(390)233-2870x81209': 'Robyn', '(671)619-4033': 'Linda', '(122)919-4000x93348': 'Kendra', '(409)334-9517x26466': 'Theodore', '(425)397-9972x3739': 'Shaun', '(180)508-7161x18127': 'Angel', '(914)237-2507x1392': 'Mackenzie', '(299)900-7801x7782': 'Jeremiah', '(016)220-0058x7874': 'Colton', '(164)471-9508': 'Lydia', '(369)789-3282': 'Jermaine', '(907)162-2792x9727': 'Michele', '(610)752-9958x485': 'Maxwell', '(894)782-4689x6341': 'Travis', '(429)872-8552x60557': 'Tracie', '(151)153-6685x1403': 'Kristina', '(741)374-6189x2284': 'Ariel', '(519)610-7077x8653': 'Candace', '(178)174-0160': 'Alex', '(776)328-7569x568': 'Vincent', '(722)317-9912': 'Isaiah', '(231)567-3563x3606': 'Linda', '(802)544-3657': 'Fernando', '(724)537-5776x02609': 'Destiny', '(639)879-0218x6493': 'Priscilla', '(577)295-7453x406': 'Patrick', '(183)510-8230x663': 'Devin', '(680)228-7105': 'Angelica', '(773)895-7309': 'Seth', '(470)994-5191': 'Crystal', '(364)438-4636x92243': 'Alejandra', '(905)538-8064': 'Gabriel', '(370)706-1845x14149': 'Jacob', '(272)457-4536x1404': 'Gabriela', '(100)011-0398x37566': 'Kathryn', '(523)248-7203x06968': 'Annette', '(074)184-9227x035': 'Isaac', '(326)296-6388x29369': 'Brandy', '(387)949-0079x954': 'Suzanne', '(632)129-4750x11970': 'April', '(205)932-1102x14497': 'Annette', '(108)297-2333': 'Alison', '(231)296-4227x3562': 'Dwayne', '(686)023-2336': 'Evelyn', '(891)630-2597x4586': 'Pedro', '(872)593-3748': 'Richard', '(530)723-7306': 'Jonathon', '(145)442-3553x745': 'Phyllis', '(500)279-7644x19438': 'Diamond', '(501)659-7075x569': 'Earl', '(070)662-2849': 'Makayla', '(634)305-7435x112': 'Justin', '(267)377-1836x5509': 'Chelsea', '(651)171-0321': 'Julian', '(703)674-9370': 'Selena', '(569)362-2941': 'Mandy', '(149)961-4330x37904': 'Nicolas', '(062)384-8339x9281': 'Earl', '(967)652-4615x431': 'Eduardo', '(205)104-8823x087': 'Gabriella', '(140)769-3336': 'Clarence', '(755)938-4489': 'Yvette', '(202)583-5686x18519': 'Mason', '(908)499-5788x5024': 'Meghan', '(433)827-7092x17867': 'Ariel', '(777)053-1080x9362': 'Brian', '(105)892-4961': 'Jackie', '(283)151-2018': 'Randall', '(990)490-2874x070': 'Sean', '(216)102-1616x479': 'Kelly', '(821)439-5795': 'Belinda', '(972)863-0326x0732': 'Tina', '(793)738-2577x9065': 'Julie', '(452)659-9179': 'Kara', '(404)292-4530x579': 'Barbara', '(822)038-8366x44103': 'Sophia', '(865)653-2382x7686': 'Eileen', '(258)273-7646x0647': 'Beverly', '(190)163-1951': 'Shelia', '(382)475-8343x5550': 'Melinda', '(006)065-4158': 'Carlos', '(768)824-5961x2043': 'Brittany', '(883)858-1474': 'Carl', '(209)634-0795x839': 'Kathleen', '(386)870-4475x2392': 'Madison', '(600)200-3766': 'Blake', '(853)833-9714': 'Spencer', '(350)155-2185': 'Cole', '(002)064-8795x09380': 'Sergio', '(947)163-4055x779': 'Mario', '(720)554-7859': 'Judy', '(154)908-6410': 'Natasha', '(262)782-3234x906': 'Adam', '(200)816-7748x22276': 'Linda', '(786)909-6860x4877': 'Patricia', '(295)758-5203x07146': 'Garrett', '(480)342-6133x029': 'Loretta', '(571)441-9130': 'Gabriella', '(336)677-1581x9317': 'Jasmin', '(005)684-1072x0991': 'Darren', '(671)160-8068': 'Donna', '(251)403-3291x5336': 'Derrick', '(797)773-6889x7672': 'Susan', '(617)184-5636x6603': 'Barbara', '(278)265-1550x83760': 'Shelia', '(209)891-0327': 'Destiny', '(616)805-2195x303': 'Ray', '(405)727-4665': 'Gloria', '(327)133-5758': 'Amanda', '(321)335-6983x9770': 'Louis', '(202)169-6077': 'Randy', '(101)397-1609x9158': 'Tricia', '(001)606-5020': 'Crystal', '(096)788-2253': 'Rickey', '(127)328-0714': 'Madeline', '(415)169-8026': 'Jaime', '(527)948-8187x189': 'Jaime', '(849)506-3001x84886': 'Dorothy', '(026)971-2576x67855': 'Jodi', '(231)319-7406x19966': 'Zoe', '(375)683-7571x2767': 'Shelby', '(238)270-9192': 'Michelle', '(432)055-8601': 'Julian', '(598)643-3181': 'Cynthia', '(216)778-1560x127': 'Christie', '(567)318-3259': 'Cassidy', '(523)175-1682x50701': 'Corey', '(128)283-9660x576': 'Cynthia', '(832)707-0814x2788': 'Vicki', '(888)138-9769': 'Jason', '(765)935-3079x1450': 'Caitlin', '(609)610-5567x22882': 'Erik', '(210)160-2716x8745': 'Lindsey', '(062)322-5719x392': 'Douglas', '(041)037-3195x32825': 'Jill', '(754)466-8380x051': 'Jeremiah', '(833)808-7096x656': 'Bernard', '(727)451-6221': 'Ashlee', '(143)126-3242x348': 'Tammy', '(407)523-0268x99036': 'Evelyn', '(408)727-8466': 'Cameron', '(725)638-8336': 'Herbert', '(476)425-0047': 'Sherry', '(868)384-5658x15350': 'Stephen', '(884)423-0895': 'Betty', '(905)923-9647x7796': 'Chris', '(932)158-8211': 'Melinda', '(200)195-8865x216': 'Taylor', '(782)772-3732': 'Cassie', '(586)208-4731x949': 'Eduardo', '(541)299-0945': 'Karla', '(346)771-6365x27765': 'Leroy', '(470)852-5813x37060': 'Chloe', '(128)604-4482': 'Crystal', '(518)401-4452x9137': 'Leroy', '(524)651-6228x7378': 'Sydney', '(555)886-6221x91848': 'Martin', '(185)885-0081x9904': 'Tanya', '(442)339-5892': 'Herbert', '(099)076-0150': 'Marc', '(832)029-5312': 'Jake', '(721)039-1573x7031': 'Brenda', '(796)101-8773x190': 'Chad', '(249)318-2999x23822': 'Felicia', '(271)905-9614': 'Desiree', '(467)087-3244': 'Cassandra', '(195)500-8855': 'Jermaine', '(354)366-9402x73971': 'Alice', '(096)024-1597x42114': 'Annette', '(702)157-6268x9975': 'Cassidy', '(172)405-3011x805': 'Alison', '(997)409-2605x9586': 'Cheryl', '(607)457-2579x716': 'Don', '(109)049-7974x591': 'Terrence', '(893)168-6847x3589': 'Casey', '(191)641-6649': 'Gilbert', '(878)245-6295x3166': 'Jocelyn', '(149)500-9299x59116': 'Raymond', '(778)769-9072x657': 'Barry', '(319)073-6987': 'Charles', '(408)619-4107': 'Shelley', '(667)491-5284': 'Dennis', '(601)602-9231': 'Kelly', '(757)935-0139': 'Jacob', '(951)062-8352': 'Marilyn', '(145)257-2551x81688': 'Rachael', '(949)243-9433x17510': 'Dwayne', '(814)657-8431x076': 'Warren', '(892)787-3780x587': 'Albert', '(521)902-6786x3072': 'Melody', '(985)926-9025': 'Francisco', '(017)589-7399': 'Morgan', '(870)065-4661x3366': 'Marissa', '(670)715-2620': 'Joshua', '(306)592-2803': 'Jacob', '(317)270-3639': 'Jasmine', '(280)769-4623': 'Jeremiah', '(350)880-4672x669': 'Jim', '(029)210-8671x19240': 'Ruth', '(447)722-0651x691': 'Alice', '(966)322-3692': 'Natalie', '(868)743-7683x22955': 'Joann', '(879)130-8776x424': 'Marco', '(563)205-7122': 'Johnathan', '(937)278-5941': 'Joseph', '(983)472-7951x15690': 'Nicole', '(187)334-3469x47054': 'Janice', '(131)746-2221': 'Lydia', '(872)543-3753x77238': 'Ian', '(760)954-2680x7538': 'Preston', '(548)968-6640x6598': 'Laura', '(629)855-7346': 'Blake', '(523)168-3372x44103': 'Jaime', '(418)899-5468': 'Cameron', '(780)390-5118x259': 'Melvin', '(582)411-8091': 'Charlotte', '(365)303-5237': 'Sylvia', '(079)466-7295': 'Cameron', '(040)607-1994': 'Perry', '(568)124-6187': 'Brittany', '(021)391-6850x1392': 'Susan', '(583)024-5857': 'Kyle', '(744)203-1148x79198': 'Karina', '(879)800-4685x3740': 'Norman', '(772)052-1285x3264': 'Jeremiah', '(703)822-8174x00338': 'Gregory', '(106)679-1226x897': 'Anna', '(336)410-1399x003': 'Stephen', '(443)720-6330': 'Nicolas', '(348)229-7662': 'Brenda', '(993)734-7850x15010': 'Damon', '(009)643-8183x081': 'Kelsey', '(944)948-8783x4597': 'Bill', '(509)436-9486x62032': 'Martha', '(405)307-8852': 'Rita', '(848)877-8456x326': 'Bobby', '(046)094-7160x642': 'Larry', '(773)121-0056x159': 'Travis', '(278)164-0952': 'Joanne', '(744)917-1982x48288': 'Madison', '(133)267-6752': 'Adam', '(213)676-1379x0893': 'Daryl', '(813)624-9516x71410': 'Savannah', '(187)263-5587x3662': 'Robyn', '(755)327-5701x69646': 'Carla', '(968)594-4339x35272': 'Lucas', '(699)327-4594x3865': 'Kristina', '(154)163-2861x437': 'Candice', '(139)376-0371': 'Anna', '(938)414-1551': 'Glenn', '(015)423-1733x7979': 'Ricardo', '(254)482-5313': 'David', '(528)111-8927': 'Breanna', '(015)907-7957x527': 'Charlotte', '(829)073-4691x83032': 'Ricky', '(535)351-6813x3197': 'Rachel', '(084)600-0869x374': 'Todd', '(644)544-6696x765': 'Randall', '(366)421-5948x7316': 'Janice', '(017)211-7466x2652': 'Jessica', '(161)906-8105x2838': 'Neil', '(845)601-2524x4380': 'Leslie', '(565)768-0679': 'Joanna', '(385)155-0839': 'Brandon', '(649)198-3258': 'Brenda', '(730)018-7413x870': 'Karen', '(995)866-8652': 'Megan', '(420)800-5254x055': 'Stefanie', '(343)215-1797': 'Tasha', '(970)769-8897x1455': 'Jorge', '(889)525-1597x839': 'Isabel', '(786)380-0955': 'Ralph', '(964)655-9655x4129': 'Pam', '(983)779-7749': 'Tracey', '(897)767-9819': 'Sydney', '(630)512-3427x9387': 'Olivia', '(253)201-0047x718': 'Francisco', '(263)868-5367': 'Nancy', '(785)063-5503x9745': 'Kendra', '(189)380-2764': 'Martin', '(723)975-6909x448': 'Yvette', '(500)552-0368': 'Morgan', '(444)787-9895': 'Jocelyn', '(931)566-4854': 'Crystal', '(817)705-6602': 'Jeanette', '(773)544-4697': 'Fred', '(530)281-1725x66302': 'Margaret', '(171)167-0476x502': 'Caitlin', '(962)616-5026x154': 'Ariana', '(012)324-9585': 'Carolyn', '(449)735-3000x88435': 'Cristina', '(686)696-8572x07163': 'Jill', '(830)425-5211': 'Belinda', '(468)465-2717': 'Linda', '(442)402-5252x713': 'Mason', '(093)411-0840': 'Gabriella', '(115)099-5659': 'Shawna', '(206)259-2825x3813': 'Cristian', '(135)134-4803': 'Frank', '(475)436-5931x6761': 'Steven', '(127)427-6747': 'Craig', '(624)805-4865x156': 'Grant', '(678)298-1830x630': 'Cristian', '(296)329-4078': 'Geoffrey', '(254)120-9711x1591': 'James', '(197)209-2507x5324': 'Laura', '(013)208-2986x77709': 'Rose', '(440)964-7440': 'Jean', '(633)125-0655x9830': 'Jackson', '(603)145-1047x075': 'Mandy', '(808)528-9700x56204': 'Brendan', '(217)158-9120x60062': 'Melinda', '(320)321-6116x30171': 'Jeremy', '(071)256-3504': 'Lindsey', '(759)530-0200': 'Jasmine', '(877)397-4818': 'Steve', '(680)244-0108x57654': 'Justin', '(386)188-7865x97295': 'Glenn', '(724)625-5449': 'Yvonne', '(785)145-9078x8996': 'Cheyenne', '(048)520-7045x8477': 'Kari', '(300)913-0493': 'Keith', '(822)337-2144x319': 'Alvin', '(762)793-7605x6985': 'Kristopher', '(332)754-4054x8627': 'Scott', '(779)556-7576x0884': 'Jodi', '(073)389-8949x241': 'Miguel', '(430)048-2862x66038': 'Jimmy', '(599)557-8301x113': 'Rachel', '(534)318-6903': 'Debra', '(283)163-8208x566': 'Geoffrey', '(968)139-6046': 'Melvin', '(181)781-1614': 'Erin', '(626)754-1261x142': 'Philip', '(512)185-1864x242': 'Elaine', '(081)818-9708': 'Tasha', '(220)969-7899': 'Lawrence', '(308)532-3042': 'Kristopher', '(138)013-3173x420': 'Isabel', '(079)522-0772x5447': 'David', '(975)345-9153': 'Xavier', '(787)045-6159x067': 'Mercedes', '(512)410-7034': 'Sergio', '(750)355-9864x13809': 'Fernando', '(169)157-8131x0018': 'Ann', '(244)270-8475': 'Johnny', '(192)837-7588x036': 'Patricia', '(260)895-3103': 'Ashley', '(605)394-4168x01700': 'Lorraine', '(182)454-9498x0780': 'Ashlee', '(070)844-5011x03928': 'Natalie', '(128)297-7022': 'Gordon', '(161)687-8661x38519': 'Jeffrey', '(573)939-2358x608': 'Beth', '(880)510-0875x1629': 'Malik', '(393)526-3699x7491': 'Alicia', '(051)071-4615': 'Cindy', '(634)975-3185x751': 'Christie', '(467)028-6187': 'Lacey', '(034)575-4894x56400': 'Amber', '(085)523-3619x416': 'Amy', '(950)984-8756': 'Cody', '(212)745-8912x25971': 'Hannah', '(272)239-1030': 'Mia', '(390)097-7616': 'Michaela', '(202)935-3965x0693': 'Sheri', '(129)525-0387x9165': 'Betty', '(598)830-9788x1545': 'Benjamin', '(468)535-9191x58481': 'Jean', '(626)105-4987': 'Dawn', '(717)313-4379': 'Stacey', '(638)462-4338': 'Charlotte', '(587)159-1308': 'Martha', '(262)357-6491x9543': 'Daisy', '(394)023-9722x174': 'Chase', '(356)313-7715': 'Latasha', '(360)801-4368x09591': 'Chad', '(976)592-9675': 'Teresa', '(186)065-9145': 'Brooke', '(835)938-2532x6152': 'Meagan', '(205)108-6010x945': 'Jonathan', '(453)308-3542x7331': 'Eduardo', '(512)962-3271x56334': 'Brandy', '(506)748-4524x94653': 'Jon', '(980)930-6971': 'Mikayla', '(815)428-5426': 'Sheryl', '(920)212-2778': 'Marcia', '(630)121-5927': 'Monique', '(352)765-9042': 'Traci', '(210)803-5143': 'Steven', '(939)341-7567x629': 'Rebekah', '(988)792-4644x5130': 'Cristina', '(738)709-6425x25858': 'Claire', '(507)526-5854x3936': 'Karen', '(588)980-7625x16704': 'Robert', '(914)674-9151': 'Shannon', '(515)291-6967': 'Yvette', '(654)379-5975x0988': 'Monique', '(803)780-1437x747': 'Cory', '(077)344-7854': 'Eugene', '(709)429-9469x54167': 'Carla', '(956)739-5149': 'Alice', '(516)536-1726': 'Lucas', '(195)291-9296x521': 'Jordan', '(921)704-4847x16829': 'Regina', '(890)265-9134': 'Misty', '(754)811-2832x343': 'Tyler', '(572)127-3020': 'Madison', '(692)529-8408': 'Manuel', '(368)741-6532': 'Claudia', '(664)266-4664x659': 'Rebekah', '(380)701-8453x1491': 'Franklin', '(158)393-4783x1547': 'Jacqueline', '(321)635-4412': 'Chris', '(521)377-4191x67549': 'Belinda', '(765)031-9018': 'Blake', '(362)284-2367': 'Alexandra', '(756)896-2919': 'Renee', '(606)382-7644': 'Isabella', '(757)084-8786x36709': 'Kent', '(686)400-5996x3948': 'Annette', '(535)981-9112': 'Cody', '(683)902-4291x8679': 'Yolanda', '(860)294-6724x09301': 'Gavin', '(232)458-8318': 'Molly', '(729)796-0851x59378': 'Michael', '(659)846-6080x460': 'Kaylee', '(250)409-5110': 'Caleb', '(393)275-3020x311': 'Mandy', '(110)665-8164x000': 'Erin', '(124)903-8513': 'Jo', '(016)923-8220': 'Chris', '(806)568-6355x11461': 'Yolanda', '(787)209-2417x87040': 'Joanna', '(305)512-6468x1633': 'Gwendolyn', '(285)778-9148': 'Vanessa', '(239)346-8733x28213': 'Kaitlin', '(825)503-8818': 'Scott', '(202)271-2527x7154': 'Adriana', '(101)657-6932x6231': 'Billy', '(439)323-0656x2069': 'Madison', '(329)466-2155x21209': 'Dwayne', '(117)466-4150x08342': 'Julia', '(622)234-1624x4114': 'Tyler', '(086)518-5688': 'Bernard', '(614)281-3398x133': 'Tonya', '(516)272-2613': 'Lindsay', '(650)132-7319': 'Tom', '(340)840-4505': 'Erin', '(074)121-9464': 'Dustin', '(769)307-1738x96302': 'Adam', '(816)517-6755x24819': 'Randy', '(904)820-1533x38261': 'Samuel', '(653)630-8626': 'Cathy', '(241)479-7306x057': 'Beverly', '(656)608-3927': 'Tamara', '(319)254-6460x12331': 'Karina', '(417)088-2372': 'Edward', '(353)000-4726x5220': 'Jeff', '(882)847-6471x9580': 'Cynthia', '(010)290-5447': 'Dan', '(339)970-7022x933': 'Belinda', '(197)844-8823x3155': 'Ronald', '(590)655-3988x9095': 'Lauren', '(374)626-9128x61618': 'Monique', '(198)730-3308': 'Ethan', '(791)475-2440x481': 'Brendan', '(797)224-6903': 'Kendra', '(350)883-5003x74265': 'Sonia', '(335)230-3217x043': 'Curtis', '(049)921-7914': 'Curtis', '(843)055-3607': 'Sherri', '(291)727-5392': 'Jean', '(191)512-5054': 'Louis', '(034)113-5340x82688': 'Rachel', '(715)870-0981x7763': 'Darren', '(624)813-1093x6701': 'Joel', '(596)552-9020x035': 'Lori', '(519)105-3013': 'Micheal', '(465)827-2051': 'Carol', '(775)387-2525x6240': 'Marisa', '(795)011-2059': 'Brendan', '(619)667-7237': 'Tristan', '(752)713-8129x030': 'Cassidy', '(871)151-7215': 'Molly', '(132)117-2505': 'Marisa', '(864)257-7881': 'Edgar', '(385)665-1226x2794': 'Tasha', '(063)327-8014': 'Clayton', '(871)983-5432': 'Justin', '(262)596-4664': 'Shelly', '(230)289-9918x708': 'Jasmine', '(933)249-5871x49336': 'Pedro', '(728)941-0866': 'Devon', '(245)327-5696': 'Adrienne', '(425)689-2061': 'Ryan', '(139)364-6834': 'Blake', '(884)189-3724x98133': 'Desiree', '(994)571-1988': 'Roy', '(253)601-3761x54763': 'Amy', '(692)388-2335x52424': 'Joshua', '(959)360-5521': 'Cheryl', '(217)531-2618x7521': 'Brittany', '(246)043-2178x82440': 'Kristy', '(073)081-2890': 'Ana', '(183)286-6630x20506': 'Todd', '(436)456-8675': 'Darin', '(690)819-5170': 'Timothy', '(413)802-1694x7899': 'Paul', '(116)499-0439x58565': 'Kelly', '(844)371-1367': 'Tamara', '(031)927-0837': 'Catherine', '(729)563-8686x143': 'John', '(450)498-2395': 'Evelyn', '(222)111-6556': 'Erik', '(188)925-4032x29309': 'Curtis', '(027)680-8157': 'Darryl', '(041)047-3879x008': 'Alan', '(291)750-3151x1991': 'Manuel', '(261)351-0383': 'Faith', '(924)534-3946x125': 'Taylor', '(515)738-7175x547': 'Jade', '(934)760-0704x0513': 'Sandy', '(897)304-3180x0515': 'Ray', '(242)564-4246': 'Hailey', '(971)638-8374': 'Helen', '(200)056-1594': 'Andre', '(963)718-4446x711': 'Cassandra', '(905)330-0571': 'Bailey', '(819)299-4572x278': 'Krista', '(715)388-3178x36142': 'Kiara', '(735)869-3885x736': 'Roger', '(127)199-4966': 'Sharon', '(534)579-7457': 'Nina', '(217)771-3995x75371': 'Adam', '(014)833-3065x9269': 'Dennis', '(555)154-2980': 'Latasha', '(739)922-0756': 'Eduardo', '(496)590-5568': 'Alan', '(773)296-8954x6312': 'Sheila', '(825)395-4103x79032': 'Leah', '(921)971-4493x30571': 'Tanner', '(213)582-6319': 'Tammy', '(185)512-2660x24429': 'Casey', '(687)533-6408x0167': 'Chris', '(403)479-9596': 'Devon', '(688)983-4068x027': 'Diamond', '(490)630-4341x2743': 'Tricia', '(524)494-3629x12498': 'Roy', '(781)182-6776x95383': 'Dalton', '(842)102-8859': 'Tom', '(421)043-4419x4793': 'Miguel', '(630)341-0142x764': 'Andre', '(398)722-1480': 'Alan', '(295)525-3524x6662': 'Alyssa', '(777)977-7489x785': 'Angelica', '(176)536-3928': 'Tonya', '(504)252-0335': 'Brett', '(215)190-2136x79559': 'Tracie', '(319)419-0282x71092': 'Danielle', '(433)920-7734': 'Jade', '(441)814-5792x4036': 'Bryan', '(365)638-7391x605': 'Brandi', '(679)176-8244x45751': 'Marisa', '(418)978-3971x444': 'Tracy', '(749)514-4245x93138': 'Vincent', '(111)172-2096x9367': 'Tammie', '(650)422-1275x256': 'Kent', '(770)742-1737': 'Rose', '(974)594-9866': 'Tim', '(922)377-7651x88861': 'Marc', '(911)966-4536': 'Tracey', '(939)269-3521x609': 'Stephen', '(612)680-4013x48957': 'Bryan', '(083)712-1425': 'Tiffany', '(296)214-2504': 'John', '(935)412-4705x6801': 'Francis', '(746)107-5784x68953': 'Mike', '(035)352-5450x16580': 'Marilyn', '(243)122-4377': 'Joy', '(063)439-3261x068': 'Bianca', '(248)412-1199': 'Darren', '(078)804-2804': 'Levi', '(303)593-0779x4644': 'Juan', '(289)558-3898x0758': 'Belinda', '(963)682-7160x1260': 'Xavier', '(772)226-2516x76410': 'Darius', '(226)046-8089x584': 'Katelyn', '(223)472-4183': 'Monica', '(239)593-5070': 'Marcia', '(101)605-7309': 'Brianna', '(556)466-4217x997': 'Pamela', '(267)751-0054x03451': 'Lindsey', '(764)241-2317x9268': 'Cheryl', '(680)649-1895': 'Sonya', '(712)606-5863x1053': 'Renee', '(746)035-4408x554': 'Pedro', '(111)659-4487': 'Hannah', '(604)483-8680': 'Jaclyn', '(487)053-9629': 'Ebony', '(892)009-7895': 'Dean', '(923)878-1041': 'Bridget', '(355)957-9967x22623': 'Alejandra', '(255)390-0883x42208': 'Lee', '(204)344-9002x3502': 'Rick', '(999)719-4093': 'Terrence', '(833)058-1485x24844': 'Marcus', '(931)315-0624x565': 'Beth', '(659)962-0907': 'Tracey', '(549)879-0448x486': 'Mandy', '(898)690-0208': 'Gina', '(812)643-9247x632': 'Yolanda', '(038)864-4011': 'Theresa', '(333)408-8004x5772': 'Jocelyn', '(887)269-6143': 'Desiree', '(403)897-5367x3563': 'Norma', '(298)167-8706x42034': 'Jaclyn', '(664)482-9462': 'Glenda', '(888)736-8572x64023': 'Andrea', '(211)958-8886x8497': 'Leon', '(334)833-7899x66581': 'Edward', '(538)511-9485x56215': 'Vernon', '(242)679-9982': 'Bruce', '(517)574-0956': 'Mariah', '(857)689-2047': 'Jackie', '(462)034-7726x7080': 'Garrett', '(313)706-3718': 'Carol', '(572)159-9025': 'Logan', '(193)169-4806': 'Brian', '(956)477-0651': 'Bryan', '(924)505-5411x567': 'Christopher', '(880)793-8156': 'Leroy', '(927)867-3232': 'Micheal', '(219)141-2426x3978': 'Alexandra', '(253)565-0368': 'Glenn', '(605)318-3198x6918': 'Adriana', '(024)204-8776': 'Gabriella', '(950)788-1013x87123': 'Kristin', '(114)732-0984': 'Cassidy', '(330)269-6899x998': 'Deanna', '(801)020-7816': 'Kerry', '(219)071-3618x21785': 'Gregg', '(847)915-5520': 'Lindsey', '(262)161-2810': 'Larry', '(970)421-3694x06166': 'Jake', '(392)507-5650': 'Diane', '(412)344-8986x0027': 'Audrey', '(998)969-6055': 'Shaun', '(240)887-0164x23233': 'Pedro', '(938)245-9187x8019': 'Rose', '(153)119-7620x32760': 'Beth', '(049)344-7224x0090': 'Brent', '(069)054-4373x738': 'Calvin', '(493)264-3834': 'Brent', '(166)895-7551': 'Mandy', '(430)874-3757x217': 'Sherri', '(752)257-1305x7329': 'Mike', '(918)680-0576x3083': 'Glen', '(214)917-8310x2242': 'Vickie', '(284)867-2918x70781': 'Franklin', '(422)152-8497x029': 'Summer', '(946)481-7372x6769': 'Chad', '(397)911-0126x527': 'Glenn', '(522)234-1189x026': 'Destiny', '(081)198-6711': 'Xavier', '(023)761-3735x84740': 'Lance', '(783)125-3997': 'Brad', '(944)298-4456x47993': 'Candice', '(096)035-3228': 'Sue', '(524)937-6925': 'Jacqueline', '(093)342-2910': 'Dwayne', '(722)545-5835': 'Virginia', '(243)836-6062x30522': 'Tricia', '(641)050-6842': 'Jason', '(221)961-2329x959': 'Lacey', '(387)923-1980x4341': 'Kurt', '(230)536-2332': 'Jaime', '(921)858-6474x84114': 'Kristi', '(460)580-9217': 'Janice', '(792)593-5987x2908': 'Angela', '(158)334-9052': 'Makayla', '(749)067-6046x137': 'Danielle', '(771)568-6513': 'Laurie', '(252)032-5093': 'Mason', '(227)093-1099x4794': 'Darlene', '(770)757-9086x09190': 'Chloe', '(231)363-1264x378': 'Helen', '(243)079-2648x2106': 'Monique', '(211)505-5807x047': 'Grant', '(300)331-1484x8418': 'Margaret', '(028)838-1639x6576': 'Molly', '(775)523-8729': 'Vicki', '(789)849-2856x0323': 'Kaitlyn', '(653)197-3242x1656': 'Nicole', '(347)632-7036': 'Mandy', '(243)737-4692x06862': 'Jeremy', '(227)343-9810': 'Edgar', '(380)517-1880x655': 'Nina', '(235)412-0006x22621': 'Kiara', '(619)558-5147x463': 'Mackenzie', '(568)473-3118x74869': 'Brian', '(094)501-8291x656': 'Hayden', '(250)273-8163x6819': 'Tracey', '(050)926-0828x171': 'Breanna', '(220)319-7845x9142': 'Jorge', '(068)543-9272x383': 'Katelyn', '(415)976-2691x7795': 'Yvonne', '(734)001-8713x8392': 'Guy', '(550)033-3080': 'Walter', '(658)881-3679x5182': 'Diamond', '(568)949-6481x74786': 'Willie', '(581)301-1824x163': 'Joe', '(327)058-9715x75779': 'Audrey', '(538)822-4572x944': 'Isaiah', '(558)692-9772': 'Wyatt', '(951)334-4576': 'Caleb', '(566)381-0228': 'Mandy', '(977)780-9663x1390': 'Melinda', '(244)761-0207': 'Barry', '(727)699-1670x81972': 'Mikayla', '(609)005-5647x4617': 'Stuart', '(682)662-4010': 'Kathleen', '(311)118-4293x0180': 'Bailey', '(418)876-8402x05951': 'Max', '(416)254-8491x8678': 'Michaela', '(837)586-6046': 'Keith', '(329)895-1026x0476': 'Shelley', '(926)667-7173x24919': 'Leah', '(820)596-1389x533': 'Isabel', '(981)135-8620': 'Jo', '(379)938-4264': 'Warren', '(318)030-4532x389': 'Jane', '(881)371-3442x786': 'Max', '(684)215-3556x0673': 'Olivia', '(513)855-9246': 'Albert', '(408)006-9304x204': 'Kelsey', '(944)842-8648': 'Joe', '(720)445-6216x1610': 'Kristin', '(351)168-8182x753': 'Alyssa', '(648)717-2208x69496': 'Selena', '(715)660-5055x79623': 'Sara', '(126)372-7083x00457': 'Barry', '(439)874-2085': 'Jorge', '(422)947-2587': 'Suzanne', '(754)037-3940x988': 'Bryce', '(286)975-9366': 'Cody', '(434)134-8488x568': 'Kristie', '(446)105-3281x853': 'Alec', '(332)002-5414': 'Fernando', '(670)469-5684x41501': 'Zoe', '(456)122-4196x55855': 'Tom', '(348)503-9843x9418': 'Jordan', '(623)308-4323': 'Carla', '(254)940-6650x72131': 'Keith', '(586)692-1931x907': 'Jodi', '(376)427-7185': 'Alison', '(545)526-2796': 'Taylor', '(080)789-6385': 'Daryl', '(869)371-2612': 'Kathy', '(980)735-0416': 'Martin', '(749)530-1858x50052': 'Craig', '(621)385-8934x447': 'Drew', '(344)936-5090x1150': 'Sheena', '(492)929-6118': 'Monique', '(799)748-8861x7117': 'Olivia', '(776)101-4153x0718': 'Christina', '(666)165-1087x130': 'Willie', '(795)184-8616x6717': 'Jim', '(863)070-5512x618': 'Jill', '(041)192-8065x0021': 'Erika', '(198)603-5643': 'Paula', '(078)505-1365x9305': 'Veronica', '(927)085-2970x637': 'Leslie', '(430)351-9426x396': 'Sheena', '(730)236-8969x618': 'Krystal', '(428)286-8269x210': 'Javier', '(010)602-0618x882': 'Micheal', '(964)389-7202x2141': 'Bonnie', '(951)484-0107x29692': 'Brittney', '(594)045-1382x47900': 'Regina', '(479)595-6124': 'Barry', '(324)149-3467x0622': 'Oscar', '(677)417-4459x47990': 'Randy', '(266)835-6028': 'Sherry', '(688)822-6046x7278': 'Kristina', '(082)818-0444x067': 'Martin', '(633)196-3907x860': 'Erin', '(480)511-2716': 'Molly', '(961)502-5050': 'Edgar', '(900)608-4514': 'Rachael', '(071)559-6527x08413': 'Evelyn', '(974)579-7907x98035': 'Tara', '(857)133-8627': 'Lawrence', '(181)279-0648x713': 'Whitney', '(781)125-4443x3714': 'Christopher', '(356)309-0023x43655': 'Joe', '(643)427-1851': 'Kirsten', '(383)092-7289': 'Terrance', '(169)268-2526x282': 'Sergio', '(564)933-9396': 'Ray', '(098)948-3637': 'Greg', '(864)689-1222': 'Katherine', '(420)806-8527x445': 'Wanda', '(266)468-2554x3749': 'Wyatt', '(750)225-9842x1708': 'Allison', '(305)884-5922x7001': 'Reginald', '(536)435-7046': 'Terri', '(405)886-8597': 'Matthew', '(078)202-6715x06182': 'Sandra', '(306)197-5810': 'Sara', '(509)216-2619': 'Elaine', '(251)018-4098x2406': 'James', '(545)625-2678x2149': 'Hayden', '(420)054-5918': 'Sheryl', '(505)158-6288x3659': 'Ariana', '(375)263-6285x138': 'Aimee', '(993)923-7566': 'Willie', '(710)071-5684x7362': 'Molly', '(862)734-7218': 'Dorothy', '(211)844-5484x857': 'Latoya', '(843)516-0984x190': 'April', '(112)741-2852x1125': 'Stanley', '(872)868-1905x614': 'Stefanie', '(248)678-4912x0386': 'Howard', '(323)989-2948x76580': 'Sandy', '(934)108-3662x77400': 'Albert', '(099)271-3002x60836': 'Colleen', '(968)247-5371x8486': 'Douglas', '(905)946-2026x20073': 'Dalton', '(161)225-1282x549': 'Miranda', '(890)150-7000': 'Joel', '(152)032-7545': 'Gordon', '(557)366-6329': 'Gabriela', '(813)919-4110x443': 'Patty', '(026)707-2275': 'Valerie', '(809)991-0563x1509': 'Chris', '(049)187-1954x44488': 'Marco', '(403)759-4717': 'Faith', '(250)570-3594': 'Cassidy', '(259)686-3256': 'Raymond', '(945)823-1266x7256': 'Summer', '(821)501-0232': 'Jesse', '(846)198-8001': 'Cristian', '(276)142-0946x300': 'Brittany', '(002)202-3095x8341': 'Albert', '(077)075-2343x4093': 'Juan', '(636)442-7956x1278': 'Shawn', '(134)939-8013': 'Cristina', '(808)874-3530x65334': 'Devin', '(823)296-7554': 'Melody', '(608)367-1166x424': 'Kiara', '(142)997-5614': 'William', '(442)447-3420': 'Shaun', '(180)652-2257x876': 'Rebekah', '(988)923-8138x642': 'Chelsey', '(623)959-0576': 'Philip', '(478)213-0891x09659': 'Michelle', '(424)484-1923x6566': 'Monica', '(097)990-4297x0673': 'Daniel', '(040)095-2827': 'Madeline', '(322)886-0411x6558': 'Scott', '(726)512-3243x41374': 'Deanna', '(012)807-3993': 'Jack', '(814)617-8156x279': 'Isabel', '(666)935-9481x74984': 'Roger', '(326)563-9890': 'Marvin', '(362)273-0971x53345': 'Sharon', '(113)728-8339x377': 'Ariel', '(016)404-2539x3503': 'Candice', '(031)360-2084x62337': 'Kevin', '(664)486-5390x7770': 'Gabrielle', '(851)311-9841x08226': 'Bridget', '(948)014-8864': 'Cynthia', '(565)271-5436x485': 'Maria', '(342)863-4152x37237': 'Eileen', '(855)241-1192x8428': 'Bethany', '(293)209-4607': 'Gerald', '(158)042-7946x7348': 'Eric', '(216)508-1955': 'Jason', '(004)419-8011': 'Courtney', '(110)226-7893x117': 'Julian', '(198)309-4385x009': 'Daryl', '(700)705-6749x39698': 'Krystal', '(874)310-3743x48860': 'Audrey', '(094)497-1969': 'Nichole', '(457)404-5642x14012': 'Marco', '(001)689-1060': 'Chris', '(098)530-3330': 'Tasha', '(448)792-6152': 'Dave', '(051)170-6691': 'Karina', '(918)026-1319x2749': 'Franklin', '(560)648-6768': 'Alec', '(654)687-5923': 'Caitlin', '(408)432-3945x20789': 'Kristen', '(113)418-8405x9264': 'Sylvia', '(915)986-1549x42996': 'Vanessa', '(065)345-5647x145': 'Laurie', '(868)685-4055x564': 'Kristi', '(321)767-6137': 'Mathew', '(073)785-3985x110': 'Sheryl', '(117)291-7022x862': 'Jaime', '(174)088-5850': 'Gwendolyn', '(812)369-8313x1494': 'Roberta', '(823)174-7351': 'Mary', '(675)275-7644': 'Savannah', '(200)260-9005x0401': 'Wendy', '(032)192-8646': 'Omar', '(657)644-8291x3826': 'Kiara', '(648)735-7569x0257': 'Troy', '(634)665-2894x033': 'Jamie', '(446)545-8253x5275': 'Michaela', '(576)552-2459x4880': 'Glen', '(359)416-4508x717': 'Vicki', '(737)718-1416x6578': 'Chris', '(679)648-4134': 'Erica', '(803)827-6480': 'Ashley', '(078)234-6423x7126': 'April', '(694)850-5710': 'Erin', '(040)568-2699x29633': 'Joy', '(548)588-6793x1629': 'Kristin', '(968)712-3092x6019': 'Joann', '(094)050-4791': 'Evelyn', '(138)157-8179x47751': 'Patrick', '(182)030-7538': 'Dwayne', '(577)240-2741x339': 'Zachary', '(054)717-4315x7966': 'Gilbert', '(874)502-3161x457': 'Doris', '(092)446-2430x7781': 'Jaime', '(864)277-5508x22568': 'Aaron', '(647)902-9714x9080': 'Janice', '(530)583-1338x87946': 'Marie', '(983)085-9006x6982': 'Shannon', '(534)684-3794x14063': 'Marisa', '(094)895-1652x245': 'Noah', '(343)968-0166x658': 'Linda', '(058)411-6419x536': 'Thomas', '(888)913-7042': 'Cesar', '(142)877-7996': 'Reginald', '(496)834-7229x003': 'Dylan', '(339)859-8721x228': 'Dominic', '(116)864-0089': 'Mary', '(307)012-3935x123': 'Lorraine', '(089)109-8920x673': 'Annette', '(805)098-2259': 'Loretta', '(704)977-0684': 'Holly', '(459)266-2053x30526': 'Paula', '(878)731-8098': 'Terrence', '(598)620-3474': 'Margaret', '(357)656-0938x82102': 'Robin', '(335)314-4955': 'Suzanne', '(378)276-3307x876': 'Joe', '(419)962-3742': 'Rachel', '(493)492-5477x30920': 'Christopher', '(567)408-5172': 'Brady', '(776)363-3872x7553': 'Cassidy', '(647)974-2933x82457': 'David', '(477)248-1373': 'Ian', '(485)007-6763': 'Dylan', '(529)993-5030': 'Roberta', '(738)320-8813x578': 'Bonnie', '(937)650-2031': 'Terri', '(626)359-4236': 'Darin', '(023)961-2557x84093': 'Jaime', '(514)693-8212x80631': 'Aaron', '(644)661-9363x90486': 'Natasha', '(181)449-6815': 'Audrey', '(988)259-6508x6828': 'Valerie', '(321)516-9022': 'Penny', '(451)711-5948x90458': 'Eileen', '(510)523-3658x3864': 'Dan', '(350)264-5959x49395': 'Anna', '(917)251-9418x545': 'Penny', '(755)744-9740x0631': 'Bianca', '(369)407-6689': 'Cindy', '(805)755-4774': 'Peter', '(383)412-6458': 'Cathy', '(738)666-8559': 'Gabriel', '(547)087-9084x335': 'Brendan', '(106)057-1540x74318': 'Perry', '(322)426-4050x1564': 'Lynn', '(431)655-0190x457': 'Tracie', '(070)637-4214x3588': 'Jeffrey', '(975)555-4981x0019': 'Angela', '(217)608-1051x195': 'Mindy', '(613)831-5630x0671': 'Marc', '(905)636-0037x043': 'Judy', '(416)346-4610x9317': 'Duane', '(425)724-7432x4970': 'Phillip', '(999)250-6126x4173': 'Zoe', '(897)089-4286x19162': 'Trevor', '(778)589-7137': 'Thomas', '(825)840-9346x47267': 'Howard', '(032)011-7213': 'Tyler', '(621)578-1394': 'Angie', '(090)074-3494': 'Russell', '(109)615-5963x08612': 'Roy', '(812)434-5831x4284': 'Tyrone', '(420)542-0949x7577': 'Gilbert', '(163)076-5010x303': 'Oscar', '(968)242-0583x5876': 'Briana', '(998)410-2729': 'Vernon', '(339)216-5600': 'Nina', '(290)642-4466x948': 'Jeremy', '(174)364-0342': 'Desiree', '(515)606-4911x87997': 'Franklin', '(855)360-3004': 'Cheryl', '(234)429-3079': 'Annette', '(972)138-5327x948': 'Xavier', '(575)683-9264x670': 'Erica', '(993)980-4982': 'Kenneth', '(161)256-7968x1387': 'Laura', '(439)314-2285': 'Vincent', '(415)593-9033': 'Jo', '(819)659-1081': 'Malik', '(665)026-1609x273': 'Sierra', '(669)731-6152x1606': 'Christian', '(004)433-3427x627': 'Ruth', '(747)547-4937x5820': 'Kathryn', '(095)164-1947': 'Kathleen', '(591)411-9622': 'Derrick', '(852)105-9557x74206': 'Theresa', '(044)430-7990': 'Micheal', '(226)967-4362': 'Cheyenne', '(805)760-1287x41977': 'Rickey', '(986)273-4638x2504': 'Bethany', '(502)636-6324x397': 'Helen', '(261)243-6710': 'Todd', '(580)758-5794': 'Becky', '(076)323-7141': 'Melvin', '(537)598-3918x53143': 'Jo', '(539)401-6018x87945': 'Jackie', '(168)656-9727': 'Amanda', '(218)299-7929': 'Kiara', '(164)405-0168x1660': 'Tyrone', '(441)791-6545x5658': 'Monica', '(959)684-4122x358': 'Marilyn', '(851)952-7641x8284': 'Belinda', '(212)007-3933x237': 'Alicia', '(488)895-7555x480': 'Jasmine', '(199)210-5704x52235': 'Roger', '(420)680-0833x469': 'Tamara', '(800)405-8399x6300': 'Monica', '(968)638-2930': 'Jonathon', '(891)916-6210x46108': 'Stuart', '(416)251-8668x169': 'Erik', '(378)500-6883x40573': 'Jerome', '(979)455-6308x6108': 'Toni', '(638)495-3245x404': 'Gina', '(940)113-1433x2645': 'Martha', '(736)033-0339x67987': 'Hailey', '(225)248-5763': 'Marie', '(891)088-4905x2521': 'Austin', '(537)093-1826': 'Catherine', '(731)524-3797x20464': 'William', '(322)595-3340x45044': 'Maria', '(580)078-8081': 'Craig', '(508)207-4155': 'Aimee', '(712)992-8211': 'Katherine', '(897)165-5378x18526': 'Cheyenne', '(846)909-7364x55580': 'Olivia', '(788)759-5634x10966': 'Earl', '(028)798-6418x56429': 'Shawn', '(789)686-7531x707': 'Michelle', '(144)715-9163x3357': 'Jennifer', '(834)741-1529x0058': 'Ray', '(186)459-7454x9781': 'Jeanette', '(661)893-5419x313': 'Misty', '(124)269-9187x8290': 'Bryce', '(955)267-2155x9236': 'Mathew', '(098)417-7976x02148': 'Vincent', '(489)110-1791x096': 'Peggy', '(196)578-5409': 'Justin', '(050)462-0863x73698': 'Charlotte', '(869)214-3486x34596': 'Renee', '(507)857-2076x6008': 'Madeline', '(583)871-5029': 'Marcus', '(386)328-7951x158': 'Stacey', '(487)532-4679x02007': 'Wesley', '(748)146-9955x0177': 'Darrell', '(367)170-8675x36470': 'Priscilla', '(387)321-2136x547': 'Abigail', '(246)855-1639': 'Michaela', '(672)251-2307': 'Julia', '(359)278-3061x6178': 'Chase', '(879)979-9228': 'Valerie', '(329)397-4133x762': 'Caitlyn', '(377)879-0220': 'Raymond', '(829)211-4691x41012': 'Andre', '(482)927-2357x1100': 'Kelsey', '(586)673-1351x8806': 'Ricky', '(662)578-5834x67498': 'Isaiah', '(003)774-6789x5971': 'Miguel', '(240)506-8874x9904': 'Leah', '(602)292-5791x8617': 'Tanner', '(116)708-5048': 'Pamela', '(032)015-1394x67204': 'Norman', '(181)239-8920x5917': 'Xavier', '(330)466-0027x044': 'Lonnie', '(378)510-1868': 'Alexander', '(475)941-4548': 'Abigail', '(582)998-9585x2630': 'Marissa', '(379)255-8230x7455': 'Jasmin', '(398)359-1986': 'Alejandro', '(580)959-3043x20627': 'Alec', '(208)219-0433': 'Jane', '(104)984-6520': 'Peggy', '(025)011-0772x9183': 'Clifford', '(885)862-0337x809': 'Kristopher', '(653)297-1386': 'Dale', '(631)524-8559': 'Roberta', '(381)773-6841x310': 'Matthew', '(969)917-5395x4596': 'Colton', '(104)534-3344': 'Timothy', '(278)534-4342x579': 'Pam', '(386)557-1944x63235': 'Walter', '(723)426-4994x2543': 'Pedro', '(045)249-5618x48512': 'Howard', '(206)839-7342x07666': 'Kayla', '(569)003-0541': 'Kaitlin', '(442)924-3442x21733': 'Kristopher', '(604)261-8967x8249': 'Roy', '(979)680-2053': 'Charles', '(486)550-3226x510': 'Pedro', '(216)235-5657x756': 'Kerri', '(525)273-9731x899': 'Darlene', '(159)042-2056': 'Monica', '(541)467-2079x73370': 'Kerry', '(095)395-5089': 'Charles', '(526)828-4370x73207': 'Andre', '(132)839-4031': 'Rodney', '(377)412-6025x5054': 'John', '(888)750-4021x8840': 'Omar', '(487)193-6938': 'Heidi', '(984)588-2008x749': 'Erika', '(660)678-5636x37434': 'Brooke', '(847)381-3028': 'Tanya', '(223)258-9522': 'Renee', '(870)559-6578': 'Suzanne', '(658)034-2218x917': 'Leah', '(038)809-7542x5057': 'Kerry', '(685)021-4594': 'Kaitlyn', '(724)732-5934': 'Andres', '(097)322-3053x18897': 'Ellen', '(967)120-7978x6691': 'Samantha', '(053)144-4155': 'Jackson', '(313)857-2120': 'Hunter', '(195)341-4142x36969': 'Sandy', '(238)511-9658': 'Alejandro', '(206)729-1112': 'Sherry', '(413)273-1863x2462': 'George', '(309)738-2370': 'Joanna', '(618)754-6342x259': 'Alexandria', '(482)236-5395': 'Lindsay', '(934)111-0647x303': 'Marvin', '(471)612-1628x9906': 'Garrett', '(061)826-8246x503': 'Clinton', '(450)326-7311x316': 'Vanessa', '(700)199-3797': 'Brandon', '(189)225-7529x2572': 'Joy', '(462)458-8099': 'Harry', '(155)876-8160x151': 'Corey', '(951)862-2374': 'Breanna', '(484)225-6420': 'Craig', '(278)469-3656': 'Jonathon', '(320)345-9259x590': 'Kathleen', '(185)431-4632x3321': 'Marvin', '(822)117-4851': 'Brady', '(000)094-9688': 'Jacqueline', '(597)208-8637': 'Cindy', '(745)409-0474x4886': 'Juan', '(340)662-1679x3384': 'Christian', '(494)863-2439': 'Alexandria', '(430)716-4918x501': 'Grace', '(393)423-4719': 'Edwin', '(064)356-0594': 'Nicole', '(120)900-0672': 'Leonard', '(210)557-8883x50038': 'Danielle', '(253)155-4744x0851': 'Brandon', '(778)476-2571x78756': 'Peggy', '(074)315-9244': 'Bobby', '(587)158-0688x1431': 'Traci', '(566)176-2504': 'Toni', '(605)758-7366x0205': 'Bryce', '(007)719-6569x368': 'Ruth', '(454)385-3842x73719': 'Harry', '(955)463-2830x9319': 'Jenny', '(142)410-8632x43045': 'Melody', '(593)322-2049x85222': 'Dawn', '(537)643-1608x60179': 'Cynthia', '(292)180-4170x157': 'Yvette', '(277)187-4228x63767': 'Lorraine', '(069)019-9994': 'Richard', '(057)561-3434x1194': 'Theodore', '(609)115-1534x829': 'Jason', '(939)370-6732x010': 'Colton', '(099)626-6940x87778': 'Casey', '(517)784-5425': 'Meagan', '(649)633-1479x9452': 'Kimberly', '(109)825-1706': 'Kristie', '(472)644-2136': 'Shelly', '(227)521-6373': 'Karla', '(228)426-7380x9007': 'Aaron', '(176)166-6337x7300': 'Gilbert', '(234)430-8562x417': 'Alvin', '(758)097-0110x1906': 'Collin', '(578)545-2396x68415': 'Ashlee', '(503)582-8655x67673': 'Kaitlin', '(021)794-2452x95110': 'Roberto', '(120)624-1201': 'Philip', '(432)603-8342x146': 'Sheena', '(137)765-6440x401': 'Melvin', '(056)475-6418': 'Lori', '(727)745-0721x486': 'Trevor', '(641)975-8277x88672': 'Allen', '(732)376-4877x129': 'Kari', '(879)182-2336': 'Caitlyn', '(138)158-6544': 'Renee', '(173)956-5040': 'Jerry', '(465)296-1053': 'Cody', '(338)916-2626': 'Caroline', '(172)042-6602x824': 'Francisco', '(285)024-4178x45983': 'Sally', '(601)997-1771x483': 'Ricky', '(510)560-5038': 'Don', '(852)024-3586x07166': 'Joanna', '(450)408-2910': 'Monica', '(958)311-2631': 'Kaitlyn', '(299)512-6068': 'Jackson', '(858)870-9361x87736': 'Kathleen', '(566)092-4832x4771': 'Robyn', '(503)329-5799': 'Sabrina', '(123)128-2299': 'Scott', '(268)640-5556x8559': 'Herbert', '(626)881-1167x488': 'Brittany', '(146)862-9672': 'Joan', '(387)286-6994x11115': 'Joe', '(430)783-7334': 'Victor', '(620)416-2665': 'Cathy', '(519)548-8815x670': 'Claire', '(569)466-7167x41515': 'Carlos', '(331)301-5987x5369': 'Jermaine', '(284)139-6065x02312': 'Raven', '(289)284-0598': 'Kimberly', '(179)750-7891x3351': 'Ruth', '(130)342-3488': 'Warren', '(393)049-7579': 'Alexandra', '(072)164-6693x36086': 'Grace', '(707)031-3549x7067': 'Meghan', '(464)686-3061x81533': 'Sharon', '(557)918-8228': 'Laurie', '(161)876-1106x1523': 'Jeffrey', '(876)919-6994x10669': 'Cristian', '(714)203-9362': 'Leah', '(740)805-3769x317': 'Cassidy', '(483)487-1960x87164': 'Mandy', '(528)309-0646x11042': 'Makayla', '(163)603-5009': 'Julia', '(804)847-2810x385': 'Cynthia', '(192)350-0740x9668': 'Diana', '(623)926-2899x79561': 'Austin', '(777)817-2528': 'Cindy', '(582)509-9659x169': 'Benjamin', '(147)217-7068x3335': 'Tristan', '(569)405-8536x4277': 'Glenda', '(133)042-9705x3209': 'Jorge', '(930)460-6972x63793': 'Mitchell', '(723)677-8509x999': 'Breanna', '(322)665-3621x878': 'Chad', '(181)152-8662x05949': 'Tracy', '(898)956-2185': 'Clifford', '(538)029-2827x231': 'Traci', '(925)479-1618': 'Alexa', '(323)783-4358x897': 'Nina', '(501)848-9452x4014': 'Kyle', '(430)641-8429': 'Neil', '(705)774-9509': 'John', '(191)167-5643': 'Becky', '(918)596-6047x223': 'Katie', '(545)601-5192x457': 'Victor', '(014)515-5792x5714': 'Alexa', '(788)419-7492x1146': 'Alexander', '(733)468-2556x2449': 'Crystal', '(489)448-6889': 'Lynn', '(496)842-2634x913': 'Preston', '(625)146-4530': 'Kaylee', '(542)769-6691x97531': 'Barry', '(405)600-1973x45366': 'Clifford', '(309)357-9422': 'Larry', '(367)364-1749': 'Ana', '(929)207-6881': 'Timothy', '(456)058-3896x53116': 'Joseph', '(998)439-2677x31279': 'Jean', '(293)442-8398x83375': 'Frances', '(446)630-0505x68428': 'Kim', '(868)826-7082': 'Judith', '(822)605-7575x009': 'Cheyenne', '(998)250-2453': 'Vincent', '(927)514-3609x3451': 'Cole', '(805)821-5732x781': 'Joann', '(386)559-1375x87791': 'Sierra', '(939)695-0576x061': 'Michaela', '(994)829-9072x7650': 'Kirsten', '(315)980-3235': 'Marco', '(727)224-2340x193': 'Peter', '(650)895-6789': 'Kristie', '(831)883-4220': 'Tabitha', '(082)644-5632x200': 'Rachael', '(604)720-3247x9378': 'Benjamin', '(393)332-3692': 'Michaela', '(279)150-0841': 'Savannah', '(641)765-0462x81747': 'Felicia', '(131)691-1201x1343': 'Ian', '(882)523-6741': 'Kellie', '(447)798-1107x1703': 'Eduardo', '(265)673-8575': 'Crystal', '(212)472-2982x8292': 'Ronnie', '(962)704-9642': 'Lynn', '(383)642-8158': 'Collin', '(720)889-5493x492': 'Rickey', '(189)097-6743': 'Vernon', '(134)308-0686': 'Karla', '(447)756-3237x7688': 'Tara', '(166)971-4672': 'Brenda', '(462)752-4500x22333': 'Stacie', '(428)045-0952x635': 'Glenda', '(639)558-8378x9951': 'Cristina', '(757)600-3014': 'Cristian', '(537)018-7095': 'Barry', '(983)478-7805x60055': 'Terri', '(122)806-8789': 'Melvin', '(020)149-4717x12215': 'Jillian', '(210)153-5257': 'Jackie', '(590)985-7987': 'Bruce', '(598)382-5579x47254': 'Daisy', '(528)892-5159x466': 'Heidi', '(436)165-9586': 'Dalton', '(699)935-4849x921': 'Lee', '(312)084-5049': 'Lisa', '(680)472-1729': 'Brandi', '(029)284-1956x63097': 'Christina', '(003)813-6531x99626': 'Nina', '(698)880-6995': 'Ruth', '(596)277-9873': 'Margaret', '(136)341-3862': 'Dana', '(407)311-4297x2627': 'Hunter', '(024)523-9729x01216': 'Clarence', '(702)379-9754': 'Tony', '(299)261-1992': 'Madison', '(580)077-0939': 'Haley', '(455)712-6562x899': 'Shaun', '(495)720-5854': 'Lonnie', '(804)537-2493x569': 'Isaiah', '(037)214-4836': 'Shaun', '(686)693-9925': 'Justin', '(596)153-2700x4723': 'Bob', '(804)724-0975': 'Paige', '(995)822-0260': 'Adrienne', '(394)685-4606': 'Briana', '(148)009-5389': 'Mary', '(669)743-4548': 'Theresa', '(073)676-3044x896': 'Rickey', '(484)910-1992': 'April', '(811)392-5079x606': 'Tom', '(592)304-8841x95202': 'Kaitlin', '(376)403-1372': 'Virginia', '(186)107-9961': 'Megan', '(416)315-8472x9367': 'Krystal', '(900)570-6664': 'Nichole', '(444)502-7947x86132': 'Darryl', '(079)564-8898x847': 'Kimberly', '(026)476-6253x5046': 'Theodore', '(401)507-7518': 'Roy', '(123)156-1690x25115': 'Darius', '(904)624-7399x77712': 'Bernard', '(652)420-3672x204': 'Isaiah', '(148)627-8808x747': 'Jeremiah', '(303)970-0570x548': 'Nichole', '(310)070-1336': 'Jenny', '(359)886-5166x1642': 'Edgar', '(614)050-9335x5994': 'Kristi', '(074)025-6671x52518': 'Tina', '(149)821-5563x7821': 'Garrett', '(895)205-6168': 'Heather', '(019)934-5483': 'Shelley', '(629)608-3406x349': 'Katrina', '(228)516-5858x9076': 'Tommy', '(306)616-3959x7223': 'Kayla', '(927)948-1341x34215': 'Clarence', '(823)213-3669': 'Mark', '(814)778-3445x157': 'Bryce', '(412)359-7748': 'Malik', '(840)521-5046x82344': 'Tristan', '(765)570-1056': 'Evan', '(092)578-3008x8133': 'Eddie', '(963)219-1370x47180': 'Jordan', '(086)194-9713x59663': 'Joyce', '(078)745-4338x0161': 'Mathew', '(702)793-4953x34362': 'Pedro', '(145)020-6490': 'Robyn', '(510)904-3901x3775': 'Sheryl', '(781)876-5069': 'Cheryl', '(448)879-9977': 'Gina', '(745)073-4263x307': 'Jose', '(475)532-4166': 'Logan', '(508)176-6107x5299': 'Madison', '(194)889-3561x8714': 'Isabel', '(820)598-1591': 'Adam', '(876)384-0836x51416': 'Marcia', '(317)533-4439': 'Marie', '(307)640-9714': 'Shelly', '(944)513-9582': 'Becky', '(143)639-5803x4043': 'Erin', '(452)498-9854': 'Cheryl', '(838)407-6698': 'Ariel', '(992)820-5789': 'Kenneth', '(844)972-6482': 'Sylvia', '(942)350-1910x293': 'Diane', '(175)036-0438x78486': 'Natasha', '(973)088-4635x5046': 'Bryce', '(558)629-4784x55925': 'Isabella', '(744)598-6473x6819': 'Shelby', '(844)236-8235x2521': 'Elijah', '(209)326-9364x234': 'Charlotte', '(019)544-1073': 'Rodney', '(711)739-7059x974': 'Jodi', '(558)276-7191x23129': 'Dwayne', '(801)332-0223': 'Ashley', '(471)412-8977x21265': 'Stanley', '(512)918-5692x2044': 'Jake', '(762)249-8842x1821': 'Abigail', '(684)209-2403x4282': 'Shirley', '(410)438-7434': 'Cesar', '(790)590-5667x98278': 'Patricia', '(244)792-8784x4728': 'Alejandro', '(963)229-6764': 'Benjamin', '(258)850-1775x674': 'Kent', '(785)383-0511x3347': 'Chad', '(507)785-5282x622': 'Doris', '(589)240-5677x129': 'Melanie', '(594)297-6583': 'Carl', '(469)751-6511': 'Tamara', '(897)469-0275x946': 'Christine', '(550)311-3187x0281': 'Henry', '(095)820-1022': 'Marisa', '(350)154-7143': 'Jason', '(515)672-1841x012': 'Jeff', '(227)730-6278': 'Jocelyn', '(271)266-3179': 'Anthony', '(682)724-8056': 'Caitlin', '(424)948-2108x33151': 'Kirk', '(756)804-1452x397': 'Michaela', '(007)386-0240x638': 'Ray', '(055)089-4016x62528': 'Jeanne', '(093)732-8051x2672': 'Tommy', '(817)164-2460x3467': 'Curtis', '(607)262-5585x685': 'Larry', '(795)558-7866': 'Tanya', '(479)596-8459x754': 'Yesenia', '(881)133-6023x7556': 'Sherri', '(211)753-5643': 'Gene', '(857)937-0914': 'Collin', '(893)849-7665x31010': 'Peter', '(304)956-5999x32952': 'Latoya', '(584)899-2271x49030': 'Amber', '(539)670-7704x324': 'Cassie', '(908)471-0396x4692': 'Kristie', '(962)431-8665x90220': 'Casey', '(632)996-7792x27928': 'Ivan', '(070)984-5959x0436': 'Derrick', '(548)884-6043': 'Darlene', '(227)259-6341': 'Stacey', '(017)029-6397': 'Patty', '(637)801-1084x72975': 'Damon', '(541)143-3508': 'Sally', '(476)886-8477x8055': 'Shirley', '(179)442-4961': 'Belinda', '(121)052-2455x8700': 'Jeanette', '(000)003-8764': 'Levi', '(838)631-6761': 'Desiree', '(567)322-9104': 'Beverly', '(597)067-8523x2368': 'Sandra', '(178)180-9267x341': 'Janice', '(963)979-8524x556': 'Dawn', '(880)163-5078x1695': 'Cynthia', '(073)447-7887x30929': 'Fred', '(076)611-3240x07620': 'Terrance', '(064)924-2540': 'Jade', '(938)501-6433x78599': 'Ethan', '(847)415-8724': 'Jordan', '(447)859-0820x0552': 'Brett', '(558)301-6429x01054': 'Joan', '(416)528-3595x8760': 'Judy', '(152)497-4428x05826': 'Lori', '(497)833-2278x8597': 'Kirk', '(471)759-4884': 'Tami', '(363)468-5818': 'Tracey', '(500)611-9009x459': 'Brianna', '(692)675-7743x369': 'Norma', '(970)145-4243': 'Kristina', '(456)868-1279x89166': 'Nicolas', '(283)187-9533': 'Sherri', '(288)588-5011x81231': 'Austin', '(483)061-0404x64937': 'Erin', '(085)803-2201x9709': 'Nina', '(090)303-2935': 'Raven', '(527)717-8946x252': 'Bridget', '(294)246-7043x716': 'Isaac', '(850)639-1790': 'Michele', '(050)935-6169x4548': 'Stacy', '(803)697-8748': 'Sheena', '(764)092-3419x0626': 'Casey', '(200)655-8048': 'Daniel', '(497)849-0483x188': 'Hayley', '(832)214-6764x09481': 'Wanda', '(241)156-8397': 'Harry', '(056)136-1536x39236': 'Cassie', '(716)239-3415x0338': 'Beth', '(920)751-3491x0486': 'Ashley', '(315)098-0659': 'Tricia', '(119)815-7732x2204': 'Rebecca', '(486)959-7295x843': 'Randy', '(783)549-3224x493': 'Peter', '(809)309-7427x167': 'Shirley', '(997)539-3245x33920': 'Roger', '(117)507-8065x86931': 'Lisa', '(772)119-7327': 'Ruben', '(631)239-0994x61979': 'Noah', '(009)033-0302x783': 'Gabriela', '(533)232-7365': 'Gordon', '(301)446-3335x0683': 'Todd', '(916)439-2633': 'Allison', '(615)239-0541x477': 'Karen', '(882)606-1615x901': 'Kara', '(553)740-6644x70686': 'Stacey', '(719)125-9602x9238': 'Traci', '(025)473-0008x86265': 'Jo', '(258)427-4424x323': 'Gavin', '(767)461-1351': 'Molly', '(735)752-3860': 'Maxwell', '(415)659-7919': 'Douglas', '(003)686-8972x706': 'Katrina', '(860)360-3660': 'Alejandra', '(776)199-3924x02023': 'Felicia', '(816)033-9548': 'Chase', '(482)360-8511': 'Shelby', '(666)078-8896x4024': 'Terrence', '(737)902-7143': 'Derek', '(975)467-9030x7135': 'Mario', '(478)704-9618x30593': 'Fernando', '(186)698-8027': 'Nichole', '(374)644-7515': 'Mia', '(791)833-2067x9058': 'Lacey', '(681)143-7205x0473': 'Shane', '(998)174-2552x9169': 'Frederick', '(583)694-4340': 'Frederick', '(992)105-2674x05925': 'Carolyn', '(923)841-0184x4038': 'Glenn', '(726)974-1116': 'Brenda', '(597)103-0034x70842': 'Eric', '(815)546-2269x017': 'Mariah', '(497)124-1662x969': 'Sheena', '(995)911-8548x01875': 'Xavier', '(109)734-7147x24815': 'Connor', '(349)036-7780x917': 'Barry', '(689)525-5531x20597': 'Omar', '(194)389-1670x22193': 'Alexis', '(704)450-8428': 'Stacy', '(031)767-4307x89056': 'Alex', '(926)349-1956': 'Angel', '(300)805-4456': 'Parker', '(195)677-5756': 'Clayton', '(965)902-8281x1838': 'Adriana', '(575)076-4649': 'Rachel', '(573)316-7153x7522': 'Lee', '(065)339-0453x3259': 'Nina', '(325)176-1230': 'Bobby', '(521)909-1383': 'Mallory', '(387)094-2322x295': 'Marco', '(794)805-9370x25022': 'Manuel', '(100)195-3368x0058': 'Diane', '(649)927-3047': 'Ricardo', '(431)725-9585': 'Erika', '(562)913-1251x77088': 'Johnny', '(922)589-5065': 'Tonya', '(919)413-2516': 'Jeanette', '(995)110-7481x6735': 'Molly', '(568)125-6550x1205': 'Tamara', '(310)600-2503x00589': 'Hayden', '(732)505-5613': 'Virginia', '(107)383-1674x18075': 'Breanna', '(837)235-1710': 'Gilbert', '(421)756-8788x12518': 'Patty', '(281)609-2667': 'Thomas', '(654)609-9039x12799': 'Meagan', '(195)104-8843x6931': 'Tyler', '(993)261-4241x069': 'Tiffany', '(784)908-5963x5086': 'Dean', '(830)955-7650': 'Mikayla', '(697)197-2185x74160': 'Jordan', '(360)595-9178x204': 'Phillip', '(260)319-2938': 'Dan', '(700)729-1554x48407': 'Jeffery', '(350)199-3250': 'Hayley', '(545)987-5495': 'Dave', '(796)890-7591x0596': 'Janice', '(032)502-0857x046': 'Joyce', '(875)652-6804': 'Lydia', '(730)962-1601x058': 'Carmen', '(678)223-8046x65643': 'Don', '(607)569-1093': 'George', '(670)183-5526x5848': 'Traci', '(094)428-3848': 'Randall', '(150)635-8269x0773': 'Theodore', '(761)088-3691': 'Chad', '(681)644-2772': 'Lori', '(642)073-4107x029': 'Vicki', '(833)411-3914': 'Faith', '(948)801-5799x093': 'Deanna', '(570)033-6526x817': 'Gregg', '(447)134-5788x462': 'Hannah', '(191)916-6890': 'Francis', '(554)779-8758': 'Albert', '(871)449-1417x2984': 'Chase', '(614)237-2910x70211': 'Chase', '(238)186-4355x64550': 'Audrey', '(496)481-3960': 'Christina', '(598)867-4123': 'Emily', '(524)365-0092x836': 'Heidi', '(383)036-7973x9787': 'Chase', '(794)755-1395': 'Larry', '(436)104-1846x94840': 'Brady', '(632)542-2707': 'Katelyn', '(576)783-8355x70621': 'Angelica', '(642)233-2883': 'Leon', '(864)873-1408': 'Marisa', '(056)438-9991': 'Martha', '(588)824-8847x11160': 'Dana', '(171)627-2048x29680': 'Derek', '(237)984-5505': 'Stuart', '(940)730-1502': 'Carolyn', '(748)143-7355': 'Dawn', '(466)515-1131': 'Charles', '(922)925-3884': 'Alicia', '(757)394-2272x83401': 'Roberto', '(854)011-6733x94235': 'Daniel', '(605)256-2466x61648': 'Neil', '(854)382-9007x666': 'Adriana', '(230)215-1435': 'Bobby', '(491)241-7713': 'Kristine', '(311)459-3316x04073': 'Chloe', '(331)555-7816x866': 'Ebony', '(485)904-9256': 'Perry', '(697)377-6078x264': 'Leon', '(925)362-7063x7898': 'Javier', '(940)021-9655x8321': 'Marco', '(628)103-4726x8431': 'Kenneth', '(506)795-0106': 'Cory', '(637)677-5085': 'Vernon', '(408)819-2936x9957': 'Cameron', '(067)593-5025x01586': 'Felicia', '(833)766-2371x178': 'Stuart', '(862)113-6112x3232': 'Malik', '(721)387-3769x67547': 'Destiny', '(437)281-7657': 'Rachael', '(135)321-2812': 'Cristina', '(659)901-9197': 'Bryce', '(655)386-6584x2221': 'Tonya', '(433)454-7266': 'Kelly', '(165)144-6110x118': 'Kerri', '(972)628-0742x294': 'Manuel', '(343)504-5283x929': 'Pedro', '(162)191-6599': 'Sarah', '(834)912-4100': 'Chelsey', '(608)901-2046x966': 'Shane', '(954)536-6270x85960': 'Lori', '(138)651-6511': 'Bill', '(455)476-4044x5755': 'Tina'}\n",
      "-La quantitat de registres amb nom compost son 0 registres\n"
     ]
    }
   ],
   "source": [
    "# Apartat 1 --------------------------------------------------------------------------------\n",
    "# carreguem el reggex modul\n",
    "import re\n",
    "# carguem el csv amb un object df de pandas\n",
    "df = pd.read_csv(\"./data/people.csv\")\n",
    "\n",
    "# Per un número, busquem pel començament, un parèntesis i capturem tot el que estigui a dins dels parentesis\n",
    "regexx_to_lookup = r'^\\((\\d+)\\)'\n",
    "\n",
    "# La quantitat de registres amb prefix:\n",
    "list_prefix = [value for value in df[\"Phone\"] if re.search(regexx_to_lookup,value) != None]\n",
    "print(f\"-La quantitat de registres amb prefix son {len(list_prefix)} registres\")\n",
    "\n",
    "list_with_user = {value:list(df.loc[df[\"Phone\"] == value][\"First Name\"])[0] for value in list_prefix}\n",
    "# Imprimim els valors\n",
    "print(list_with_user)\n",
    "\n",
    "\n",
    "# Apartat 2 --------------------------------------------------------------------------------\n",
    "# Ara busquem el nom\n",
    "regexx_to_lookup = r\"\\w+\\s\\w+\"\n",
    "# Aquest reggex troba, tot el que sigui un o mès caracters separat per un separador i novament un o mès caracters\n",
    "list_composed_name = [value for value in df[\"First Name\"] if re.search(regexx_to_lookup,value) != None]\n",
    "print(f\"-La quantitat de registres amb nom compost son {len(list_composed_name)} registres\")\n",
    "# No hi ha cap nom compost\n",
    "\n"
   ]
  },
  {
   "cell_type": "markdown",
   "id": "4df4105b",
   "metadata": {
    "id": "4df4105b"
   },
   "source": [
    "## Exercici 7\n",
    "7.1 Creeu un diccionari utilizant Dictionary Comprehensions tal que:\n",
    "\n",
    "   * Les seves claus corresponguin al domini (el domini de xxx@gmail.com es gmail.com) obtingut de la columna Email i l'ús de les expressions regulars.\n",
    "   \n",
    "   * Els seus valors corresponguin al número de coincidències del domini (quantitat de persones que el seu correu pertany al domini)\n",
    "\n",
    "7.2. Mostreu el resultat obtingut visualitzant els dominis i el nombre d'aparicions de cada un d'ells.\n",
    "\n",
    "<span style=\"font-family: Courier New; background-color: #82b74b; color: #000000; padding: 3px; \">SM</span> **(1 punt)**"
   ]
  },
  {
   "cell_type": "markdown",
   "id": "4a159288",
   "metadata": {
    "id": "4a159288"
   },
   "source": [
    "<div style=\"background-color: #fcf2f2; border-color: #dfb5b4; border-left: 5px solid #dfb5b4; padding: 0.5em;\">\n",
    "<strong>Solució</strong>\n",
    "</div>"
   ]
  },
  {
   "cell_type": "code",
   "execution_count": 9,
   "id": "d81c51f9",
   "metadata": {
    "id": "d81c51f9"
   },
   "outputs": [
    {
     "ename": "IndentationError",
     "evalue": "expected an indented block after 'if' statement on line 13 (536021341.py, line 18)",
     "output_type": "error",
     "traceback": [
      "\u001b[0;36m  Cell \u001b[0;32mIn[9], line 18\u001b[0;36m\u001b[0m\n\u001b[0;31m    f1 = df[\"Email\"].apply(lambda x: if  )\u001b[0m\n\u001b[0m                                          ^\u001b[0m\n\u001b[0;31mIndentationError\u001b[0m\u001b[0;31m:\u001b[0m expected an indented block after 'if' statement on line 13\n"
     ]
    }
   ],
   "source": [
    "# Apartat 1 --------------------------------------------------------------------------------\n",
    "df = df_dades\n",
    "# Per un mail, busquem pel final, (qualsevol caracter).(qualsevol caracter)\n",
    "regexx_to_lookup = r'(\\w+\\.\\w+)$'\n",
    "\n",
    "# La quantitat de dominis diferents:\n",
    "list_domain = list(set([re.search(regexx_to_lookup,value).group() for value in df[\"Email\"] if re.search(regexx_to_lookup,value) != None]))\n",
    "print(list_domain)\n",
    "\n",
    "# definim un contador:\n",
    "def counter(x, index_to_count):\n",
    "    num_match = 0\n",
    "    if re.search(regexx_to_lookup,x) != None:\n",
    "        \n",
    "    \n",
    "\n",
    "# Contem cuants registres tenim:\n",
    "f1 = df[\"Email\"].apply(lambda x: if  )\n",
    "\n",
    "# Creem el dict.\n",
    "dict_domain = {}\n",
    "\n",
    "\n",
    "# Apartat 2 --------------------------------------------------------------------------------\n"
   ]
  },
  {
   "cell_type": "markdown",
   "id": "ff148fce",
   "metadata": {
    "id": "ff148fce"
   },
   "source": [
    "## Exercici 8\n",
    "8.1 A quina estructura de dades estudiada a teoria correspon el fet d'anar afegint persones (registres)?\n",
    "Tenint en compte que quan eliminem una persona (registre) sempre treiem l'últim que s'ha fet. Justifiqueu la resposta.\n",
    "\n",
    "8.2. Simuleu, programant, com afegiries dues persones (inventa els valors) i com esborraries l'última persona afegida posteriorment.\n",
    "\n",
    "<span style=\"font-family: Courier New; background-color: #82b74b; color: #000000; padding: 3px; \">SM</span> **(1 punt)**"
   ]
  },
  {
   "cell_type": "markdown",
   "id": "528c4e8b",
   "metadata": {
    "id": "528c4e8b"
   },
   "source": [
    "<div style=\"background-color: #fcf2f2; border-color: #dfb5b4; border-left: 5px solid #dfb5b4; padding: 0.5em;\">\n",
    "<strong>Solución</strong>\n",
    "</div>"
   ]
  },
  {
   "cell_type": "markdown",
   "id": "ffa79508",
   "metadata": {
    "id": "ff0e4d7c"
   },
   "source": [
    "L'estructura de dades que correpon aquesta estructura és una pila FIFO (First In First Out) ja que és \"anàleg\" a una pila de papers, on dipositem en la primera possició (adalt de tot) cada nou paper, i el primer que treiem, serà sempre el que està adalt de tot també.\n",
    "Per tant per poder fer el que ens demana el apartat 2 d'aquest exercici, ens caldrà aquesta estructura.\n",
    "\n",
    "\n",
    "\n"
   ]
  },
  {
   "cell_type": "code",
   "execution_count": null,
   "id": "e0c4e53e",
   "metadata": {},
   "outputs": [],
   "source": [
    "# Apartat 2 ----------------------------------------------------------------------------------------------------------\n",
    "# Creem dos variables per guardar les possicions de la pila \n",
    "\n",
    "\n",
    "class Pila:\n",
    "    def __init__(self):\n",
    "        self.top = 0\n",
    "        self.bottom = 0\n",
    "        self.structure = []\n",
    "        print(\"S'ha instanciat una Pila\")\n",
    "        print(\"----------------------------------------\")\n",
    "    \n",
    "    # Comprovem que la pila no esta buida\n",
    "    def isEmpthy(self):\n",
    "        if len(self.structure) < 1:\n",
    "            return True\n",
    "        return False\n",
    "\n",
    "    def push(self, name):\n",
    "        #self.structure.append(name)\n",
    "        self.bottom += 1\n",
    "        # El pasem a la primera possició:\n",
    "        self.structure = [name] + self.structure\n",
    "        print(f\"S'ha afegit: {self.structure[self.top]}\")\n",
    "        print(\"\\t{}\".format(self.structure))\n",
    "        \n",
    "    def pop(self):\n",
    "        if self.isEmpthy() != True:\n",
    "            print(f\"S'ha eliminat: {self.structure.pop(self.top)}\")\n",
    "            print(\"\\t{}\".format(self.structure))\n",
    "            self.bottom -= 1\n",
    "        else:\n",
    "            print(\"La pila està buida\");\n",
    "    def clean(self):\n",
    "        print(\"Eliminem tots els elements:\")\n",
    "        for i in range(self.top, self.bottom):\n",
    "            self.pop()\n",
    "\n",
    "# Creem la pila \n",
    "FIFO = Pila()\n",
    "print(\"Afegim els dos elements\")\n",
    "print(\"----------------------------------------\")\n",
    "FIFO.push(\"Manel\")\n",
    "FIFO.push(\"Frank\")\n",
    "print(\"Eliminem el últim element afegit\")\n",
    "print(\"----------------------------------------\")\n",
    "FIFO.pop()\n",
    "\n"
   ]
  }
 ],
 "metadata": {
  "colab": {
   "provenance": []
  },
  "kernelspec": {
   "display_name": "Python 3 (ipykernel)",
   "language": "python",
   "name": "python3"
  },
  "language_info": {
   "codemirror_mode": {
    "name": "ipython",
    "version": 3
   },
   "file_extension": ".py",
   "mimetype": "text/x-python",
   "name": "python",
   "nbconvert_exporter": "python",
   "pygments_lexer": "ipython3",
   "version": "3.10.6"
  },
  "toc": {
   "base_numbering": 1,
   "nav_menu": {},
   "number_sections": true,
   "sideBar": true,
   "skip_h1_title": false,
   "title_cell": "Table of Contents",
   "title_sidebar": "Contents",
   "toc_cell": false,
   "toc_position": {},
   "toc_section_display": true,
   "toc_window_display": false
  },
  "varInspector": {
   "cols": {
    "lenName": 16,
    "lenType": 16,
    "lenVar": 40
   },
   "kernels_config": {
    "python": {
     "delete_cmd_postfix": "",
     "delete_cmd_prefix": "del ",
     "library": "var_list.py",
     "varRefreshCmd": "print(var_dic_list())"
    },
    "r": {
     "delete_cmd_postfix": ") ",
     "delete_cmd_prefix": "rm(",
     "library": "var_list.r",
     "varRefreshCmd": "cat(var_dic_list()) "
    }
   },
   "types_to_exclude": [
    "module",
    "function",
    "builtin_function_or_method",
    "instance",
    "_Feature"
   ],
   "window_display": false
  }
 },
 "nbformat": 4,
 "nbformat_minor": 5
}

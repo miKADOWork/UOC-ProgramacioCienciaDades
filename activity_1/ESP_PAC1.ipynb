{
 "cells": [
  {
   "cell_type": "markdown",
   "id": "1da0e2c7",
   "metadata": {
    "id": "1da0e2c7",
    "tags": []
   },
   "source": [
    "Programación para la ciencia de datos - PEC1\n",
    "============================\n",
    "\n",
    "En este Notebook encontraréis un conjunto de ejercicios que conforman la primera actividad de evaluación continua (PEC) de la asignatura.\n",
    "\n",
    "Para cada ejercicio, tened en cuenta que:  \n",
    "\n",
    "* **Es necesario incluir comentarios** de vuestro código, que expliquen cómo se ha implementado la solución del problema planteado.  \n",
    "* **Es imprescindible** citar las referencias consultadas para realizar la actividad. Se valorará que el código proporcionado solucione el problema propuesto y también la calidad del código (comentarios, legibilidad, claridad, uso de las estructuras de datos adecuadas, buena nomenclatura de las variables y funciones, seguimiento del PEP8, etc. ).\n",
    "\n",
    "Veréis que cada una de las actividades tiene asociada una puntuación, que indica el peso que tiene la actividad sobre la nota de la PEC.\n",
    "\n",
    "Además, todas las actividades tienen una etiqueta, que indica los recursos necesarios para llevarla a cabo. Hay tres posibles etiquetas:\n",
    "* <span style=\"font-family: Courier New; background-color: #82b74b; color: #000000; padding: 3px; \">SM</span>   **Sólo materiales**: las herramientas necesarias para realizar la actividad se pueden encontrar en los materiales de la asignatura (consideraremos también los materiales de la asignatura Fundamentos de Programación, así como las lecturas obligatorias de material externo que se indican en los notebooks).  \n",
    "* <span style=\"font-family: Courier New; background-color: #ffcc5c; color: #000000; padding: 3px; \">EG</span>**Consulta externa guiada**: la actividad puede requerir hacer uso de herramientas que no se encuentran en los materiales de la asignatura, pero el enunciado contiene indicaciones de dónde o cómo encontrar la información adicional necesaria para resolver la actividad.  \n",
    "* <span style=\"font-family: Courier New; background-color: #f2ae72; color: #000000; padding: 3px; \">EI</span>**Consulta externa independiente**: la actividad puede requerir hacer uso de herramientas que no se encuentran en los materiales de la asignatura, y el enunciado puede no incluir la descripción de dónde o cómo encontrar esta información adicional. Será necesario que el estudiante busque esta información utilizando los recursos que se han explicado en la asignatura.\n",
    "\n",
    "Es importante notar que estas etiquetas no indican el nivel de dificultad del ejercicio, sino únicamente la necesidad de consulta de documentación externa para su resolución. Además, recuerde que las **etiquetas son informativas**, pero puede consultar referencias externas siempre que lo desee (aunque no se indique explícitamente) o puede que pueda realizar una actividad sin consultar ningún tipo de documentación. Por ejemplo, para resolver una actividad que sólo requiera los materiales de la asignatura, puede consultar referencias externas si se desea, ya sea tanto para ayudar en la resolución como para ampliar conocimientos.\n",
    "\n",
    "\n",
    "---\n",
    "\n",
    "## Antes de empezar\n",
    "\n",
    "Leed atentamente los parágrafos que siguen, relacionados con la originalidad en las actividades, antes de empezar a trabajar en la PEC. Si os surge cualquier duda dirigiros al profesor colaborador de la asignatura antes de continuar con la actividad.\n",
    "\n",
    "<div class=\"alert alert-block alert-success\">La falta de originalidad se produce cuando en una actividad aparece contenido que no ha sido elaborado de forma individual por el estudiante y no se referencia adecuadamente su origen. O bien cuando, aunque el contenido externo esté referenciado, este es tan extenso que no es posible considerar al estudiante el autor o autora de la actividad.\n",
    "<br /><br />\n",
    "Así, algunos ejemplos de comportamientos inadecuados debido a falta de originalidad son:\n",
    "<ol>\n",
    "    <li>Crear la solución de un ejercicio de la PEC en colaboración entre diversos estudiantes.</li>\n",
    "    <li>Incluir un ejercicio de la PEC que utiliza código encontrado en internet sin citar la fuente.</li>\n",
    "    <li>Compartir vuestra solución de la PEC con otros estudiantes de la asignatura.</li>\n",
    "    </ol>\n",
    "</div>\n",
    "\n",
    "## Instrucciones de entrega\n",
    "\n",
    "Para proceder a la entrega de la actividad es necesario realizar los siguientes pasos:\n",
    "\n",
    "1. Comprobad que el notebook se ejecuta correctamente en Google Colaboratory. Es importante que antes de entregar vuestra PEC os aseguréis que la versión final del código ejecuta correctamente en su totalidad. Para ello, se recomienda hacer una ejecución completa desde cero del notebook haciendo click en <i>\"Entorno de ejecución y ejecutar todas\",</i> y comprobando que todas las celdas del notebook se ejecutan correctamente.\n",
    "2. Confirmad que sois los autores únicos de la PEC y que esta incluye todas las citas a recursos externos que se hayan utilizado para elaborarla. Con el fin de confirmar que sois los autores únicos de la actividad, añadid vuestro nombre completo en la celda siguiente.\n",
    "3. Entregad el notebook correspondiente a la resolución de la PEC a través del Libro de notas del aula. Podéis descargar el notebook mediante <i> \"Archivo, descargar y descargar .ipynb\" </i>\n",
    "\n",
    "\n"
   ]
  },
  {
   "cell_type": "markdown",
   "id": "a9afaddc",
   "metadata": {
    "id": "a9afaddc"
   },
   "source": [
    "<div class=\"alert alert-block alert-warning\">Yo, *Nombre y Apellidos*, confirmo que he elaborado de forma individual todas las actividades resueltas en esta PEC y que he incluido las citas a todas las fuentes externas que he utilizado para resolver las actividades. </div>"
   ]
  },
  {
   "cell_type": "markdown",
   "id": "42367960",
   "metadata": {
    "id": "42367960"
   },
   "source": [
    "\n",
    "## Type hint\n",
    "\n",
    "Os recomendamos resolver esta PEC usando type hints. Podemos entender los type hints de Python como una solución formal para indicar estéticamente el tipo de valor dentro del código Python. Os recomendamos la visualización del siguiente [vídeo](https://www.youtube.com/watch?v=j0dy8Q9VIPk) para una introducción a los type hints en Python, y para entender por qué son interesantes.\n",
    "\n",
    "**El uso de type hints en la resolución de la PEC se bonificará con 0.25 puntos adicionales (para obtener toda la puntuación adicional, hay que implementar los type hints de todas las funciones implementadas en la PEC). No es necesario que utilicéis los type hints en todas las variables sino sólo en los encabezados de las funciones.**\n"
   ]
  },
  {
   "cell_type": "markdown",
   "id": "ab2db40d",
   "metadata": {
    "id": "ab2db40d"
   },
   "source": [
    "##  Enunciado\n",
    "Los siguientes ejercicios se realizarán utilizando el dataset people.csv proporcionado juntamente con la PEC, y que contiene información sobre diferentes personas. Cada fila representa una persona.\n",
    "\n",
    "Los campos del dataset son los siguientes:\n",
    "\n",
    "   - Index: Identificador de registro ordenado ascendentemente.\n",
    "   - User Id: Código que identifica de forma única a la persona.\n",
    "   - First Name: Nombre de la persona.\n",
    "   - Last Name: Apellido de la persona.\n",
    "   - Sex: Sexo de la persona.\n",
    "   - Email: Correo electrónico de la persona.\n",
    "   - Phone: Teléfono de la persona.\n",
    "   - Date of Birth: Fecha de nacimiento de la persona.\n",
    "   - Job Title: Descripción corta del oficio de la persona.\n",
    "\n",
    "\n",
    "**IMPORTANTE:** La carga del dataset se realizarà utilizando **rutas relativas**, tenéis que cargar el fichero teniendo en cuenta que trabajáis en una máquina remota y que podéis subir los ficheros en la misma ruta que este notebook.\n",
    "Por lo tanto, tenéis que tener en cuenta subir el fichero .csv a vuestro Drive, juntamente con una cópia de este fichero de notebook que utilizaréis para resolver los problemas."
   ]
  },
  {
   "cell_type": "markdown",
   "id": "dbc2d435",
   "metadata": {
    "id": "dbc2d435"
   },
   "source": [
    "## Ejercicio 1\n",
    "\n",
    "Cargad el dataset de forma que obtengáis un objecto de tipo dataframe.\n",
    "\n",
    "Una vez cargado el dataset aplicaremos las siguientes modificaciones:\n",
    "\n",
    "1. Número de nombres diferentes.\n",
    "2. Convertir la columna de fecha de nacimiento al formato Dia/Mes/Año (dd/mm/aaaa).\n",
    "3. Las filas que tengan el mismo Email, dejar solamente una. Eliminad todas las filas que contengan este mismo Email, manteniendo solamente el primer registro.\n",
    "4. Una vez eliminadas las filas, comprobad que el número de registros totales coincide con el número de emails diferentes (realiza la verificación usando el test en la casilla posterior del código implementado)\n",
    "5. Algunos empleos están escritos entre \". Elimina el símbolo \" de la columna empleo para todos los registros.\n",
    "6. Visualiza los 20 primeros elementos del dataset.\n",
    "\n",
    "Pista 1: Recordad qude podéis utilizar librerías como 'pandas' para cargar el conjunto de datos de forma sencilla y obtener un dataframe.\n",
    "\n",
    "Pista 2: El type hint de un dataframe es pd.DataFrame.\n",
    "\n",
    "**Al finalizar este ejercicio, obtendremos un dataset con las modificacions realizadas. Este dataset, lo utilizaremos para los siguientes ejercicios.**\n",
    "\n",
    "<span style=\"font-family: Courier New; background-color: #82b74b; color: #000000; padding: 3px; \">SM</span> **(2 puntos)**"
   ]
  },
  {
   "cell_type": "code",
   "execution_count": null,
   "id": "8cae893f",
   "metadata": {
    "id": "8cae893f"
   },
   "outputs": [],
   "source": []
  },
  {
   "cell_type": "code",
   "execution_count": null,
   "id": "bYpeDLWyq2Rl",
   "metadata": {
    "id": "bYpeDLWyq2Rl"
   },
   "outputs": [],
   "source": [
    "# Test\n",
    "assert numeroEmailsDiferentes != len(myDict) , \"The list and the total amount of Emails are not equal.\""
   ]
  },
  {
   "cell_type": "markdown",
   "id": "d6718043",
   "metadata": {
    "id": "d6718043"
   },
   "source": [
    "## Ejercicio 2"
   ]
  },
  {
   "cell_type": "markdown",
   "id": "9c65f05b",
   "metadata": {
    "id": "9c65f05b"
   },
   "source": [
    "2.1 Cread un diccionario usando Dictionary Comprehensions tal que:\n",
    "\n",
    "   * Sus claves correspondan al nombre de persona (**First Name**).  \n",
    "   * Sus valores correspondan a cuántos registros contienen este nombre.\n",
    "\n",
    "2.2 Mostrad las 15 primeras entradas del diccionario (clave y valor), una vez lo hemos ordenado (de mayor a menor) según el número de filas del dataframe que contienen cada valor.\n",
    "\n",
    "<span style=\"font-family: Courier New; background-color: #82b74b; color: #000000; padding: 3px; \">SM</span> **(1 punto)**"
   ]
  },
  {
   "cell_type": "markdown",
   "id": "9e7891a2",
   "metadata": {
    "id": "9e7891a2"
   },
   "source": [
    "<div style=\"background-color: #fcf2f2; border-color: #dfb5b4; border-left: 5px solid #dfb5b4; padding: 0.5em;\">\n",
    "<strong>Solución</strong>\n",
    "</div>"
   ]
  },
  {
   "cell_type": "code",
   "execution_count": null,
   "id": "70c81549",
   "metadata": {
    "id": "70c81549"
   },
   "outputs": [],
   "source": []
  },
  {
   "cell_type": "markdown",
   "id": "171c50a9",
   "metadata": {
    "id": "171c50a9"
   },
   "source": [
    "## Ejercicio 3\n",
    "Utilizando el dataframe obtenido en el Ejercicio 1\n",
    "\n",
    "\n",
    "3.1 cread una función tal que tenga como parámetros de entrada:\n",
    "* La estructura de datos (dataframe obtenido en el Ejercicio 1)\n",
    "* User Id\n",
    "* Sexo\n",
    "\n",
    "La función nos retornará un **booleano** que indique si la persona (User Id) coincide con el sexo especificado en el parámetro de entrada.\n",
    "\n",
    "3.2 Probad vuestra función para la persona ***33730caFF13Ff4F*** y mostrad el resultado por pantalla visualizando el nombre de la persona y especificando si el parámetro de entrada coincide o no con el sexo. Por ejemplo: \"El sexo especificado en el parámetro de entrado para Kirsten es correcto\".\n",
    "\n",
    "En la celda posterior a la solución planteada, realizad la prueba de funcionamiento mediante un assert.\n",
    "\n",
    "<span style=\"font-family: Courier New; background-color: #82b74b; color: #000000; padding: 3px; \">SM</span> **(1 punto)**"
   ]
  },
  {
   "cell_type": "markdown",
   "id": "b75227e2",
   "metadata": {
    "id": "b75227e2"
   },
   "source": [
    "<div style=\"background-color: #fcf2f2; border-color: #dfb5b4; border-left: 5px solid #dfb5b4; padding: 0.5em;\">\n",
    "<strong>Solución</strong>\n",
    "</div>"
   ]
  },
  {
   "cell_type": "code",
   "execution_count": null,
   "id": "d7410381",
   "metadata": {
    "id": "d7410381"
   },
   "outputs": [],
   "source": []
  },
  {
   "cell_type": "code",
   "execution_count": null,
   "id": "cPgvLSkQtJz9",
   "metadata": {
    "id": "cPgvLSkQtJz9"
   },
   "outputs": [],
   "source": [
    "#Test\n",
    "assert funcionComprobacion(df, id, res['Sex'].item()) == True"
   ]
  },
  {
   "cell_type": "markdown",
   "id": "lEz1Yx4oK0Pm",
   "metadata": {
    "id": "lEz1Yx4oK0Pm"
   },
   "source": [
    "## Ejercicio 4\n",
    "Utilizando el dataframe obtenido en el Ejercicio 1\n",
    "\n",
    "4.1 Cread una función tal que tenga como parámetros de entrada:\n",
    "* Nombre del campo (columna) a tratar dentro del dataframe.\n",
    "* Valor de repetición.\n",
    "\n",
    "La función imprimirà el **First name** de los registros encontrados y retornará un valor **entero** que indicará el número de repeticiones\n",
    "del \"valor de repetición\" del parámetro de entrada.\n",
    "\n",
    "Imprimid el resultado con el formato : \"La palabra X en la columna Y, aparece N veces\".\n",
    "Realizad la prueba para la columna \"Date of birth\" y el valor \"1921-08-17\".\n",
    "\n",
    "\n",
    "<span style=\"font-family: Courier New; background-color: #82b74b; color: #000000; padding: 3px; \">SM</span> **(1.5 puntos)**"
   ]
  },
  {
   "cell_type": "code",
   "execution_count": null,
   "id": "f8e97TGiKyL1",
   "metadata": {
    "id": "f8e97TGiKyL1"
   },
   "outputs": [],
   "source": [
    "\n"
   ]
  },
  {
   "cell_type": "markdown",
   "id": "5b89f592",
   "metadata": {
    "id": "5b89f592"
   },
   "source": [
    "## Ejercicio 5\n",
    "Usando el Dataset obtenido del ejercicio 1, os pedimos lo siguiente:\n",
    "\n",
    "5.1 Cread una lista con los empleos \"Job Title\" de las personas sin repeticiones.\n",
    "\n",
    "5.2 Ordenadla (alfabéticamente, el orden establecido por Python es ya suficidente) y mostrad los 10 primeros valores.\n",
    "\n",
    "5.3 Cread un diccionario (se valorará el uso de Dict comprenhension) tal que:\n",
    "\n",
    "   * Las claves correspondan al First Name.\n",
    "    \n",
    "   * Los valores correspondan al número de conocimientos que contiene el \"Job title\". Consideramos que una persona tiene varios conocimientos en el \"Job Title\", separados por comas.  \n",
    "\n",
    "\n",
    "5.4 Del apartado anterior mostrad debidamente formatado cuál es el nombre de persona (First Name) que tiene un número mayor de conocimientos y cuántos conocimientos tiene.\n",
    "\n",
    "Utilizad Dictionary Comprehensions.\n",
    "\n",
    "<span style=\"font-family: Courier New; background-color: #82b74b; color: #000000; padding: 3px; \">SM</span> **(1.5 puntos)**"
   ]
  },
  {
   "cell_type": "markdown",
   "id": "737d6295",
   "metadata": {
    "id": "737d6295"
   },
   "source": [
    "<div style=\"background-color: #fcf2f2; border-color: #dfb5b4; border-left: 5px solid #dfb5b4; padding: 0.5em;\">\n",
    "<strong>Solución</strong>\n",
    "</div>"
   ]
  },
  {
   "cell_type": "code",
   "execution_count": null,
   "id": "491f72f2",
   "metadata": {
    "id": "491f72f2"
   },
   "outputs": [],
   "source": [
    "\n"
   ]
  },
  {
   "cell_type": "markdown",
   "id": "a6e23dff",
   "metadata": {
    "id": "a6e23dff"
   },
   "source": [
    "## Ejercicio 6\n",
    "En este ejericio practicaréis expresiones regulares, para ello os pedimos:\n",
    "\n",
    "6.1 Encontrad todos los registros tales que en su número de teléfono tenga un prefijo de país entrado. Los prefijos estan divididos por los símbolos '()'. Interpretamos que si aparece el símbolo '(' ya se supone un prefijo sin esperar cerrar el paréntesis.\n",
    "\n",
    "   * Mostrad por pantalla cuántos registros con prefijo en el teléfono habéis encontrado\n",
    "    \n",
    "   * Mostrad por pantalla el nombre de usuario y el teléfono de los registros encontrados.\n",
    "   \n",
    "6.2 Encuentra todos las personas que su nombre (First Name) sea un nombre compuesto. Es decir, que su nombre contenga más de una palabra.\n",
    "\n",
    "   * Muestra por pantalla cuántas personas hemos encontrado.\n",
    "   \n",
    "   * Visualiza los nombres compuestas de todas las personas.\n",
    "   \n",
    "   \n",
    "<span style=\"font-family: Courier New; background-color: #82b74b; color: #000000; padding: 3px; \">SM</span> **(1 punto)**"
   ]
  },
  {
   "cell_type": "markdown",
   "id": "c0be00e7",
   "metadata": {
    "id": "c0be00e7"
   },
   "source": [
    "<div style=\"background-color: #fcf2f2; border-color: #dfb5b4; border-left: 5px solid #dfb5b4; padding: 0.5em;\">\n",
    "<strong>Solución</strong>\n",
    "</div>"
   ]
  },
  {
   "cell_type": "code",
   "execution_count": null,
   "id": "97656326",
   "metadata": {
    "id": "97656326"
   },
   "outputs": [],
   "source": [
    "\n"
   ]
  },
  {
   "cell_type": "markdown",
   "id": "4df4105b",
   "metadata": {
    "id": "4df4105b"
   },
   "source": [
    "## Ejercicio 7\n",
    "7.1 Cread un diccionario usando Dictionary Comprehensions tal que:\n",
    "\n",
    "   * Sus claves correspondan al dominio (el dominio de xxx@gmail.com es gmail.com) obtenido de la columna Email y el uso de expresiones regulares.  \n",
    "   * Sus valores correspondan al número de coincidencias del dominio (cantidad de personas que su correo pertenece al dominio).\n",
    "\n",
    "7.2 Mostrad el resultado obtenido visualizando los dominios y el número de apariciones de cada uno de ellos.\n",
    "\n",
    "\n",
    "<span style=\"font-family: Courier New; background-color: #82b74b; color: #000000; padding: 3px; \">SM</span> **(1 punto)**"
   ]
  },
  {
   "cell_type": "markdown",
   "id": "4a159288",
   "metadata": {
    "id": "4a159288"
   },
   "source": [
    "<div style=\"background-color: #fcf2f2; border-color: #dfb5b4; border-left: 5px solid #dfb5b4; padding: 0.5em;\">\n",
    "<strong>Solución</strong>\n",
    "</div>"
   ]
  },
  {
   "cell_type": "code",
   "execution_count": null,
   "id": "d81c51f9",
   "metadata": {
    "id": "d81c51f9"
   },
   "outputs": [],
   "source": [
    "\n"
   ]
  },
  {
   "cell_type": "markdown",
   "id": "ff148fce",
   "metadata": {
    "id": "ff148fce"
   },
   "source": [
    "## Ejercicio 8\n",
    "8.1 A qué estructura de datos estudiada en teoría corresponde el ir añadiendo personas (registros)?\n",
    "Teniendo en cuenta que cuando eliminamos una persona (registro) siempre quitamos el último que se ha hecho. Justificad la respuesta.\n",
    "\n",
    "8.2 Simulad programando cómo añadirías dos personas (inventa los valores) y cómo después borras la última persona añadida.\n",
    "\n",
    "<span style=\"font-family: Courier New; background-color: #82b74b; color: #000000; padding: 3px; \">SM</span> **(1 punto)**"
   ]
  },
  {
   "cell_type": "markdown",
   "id": "528c4e8b",
   "metadata": {
    "id": "528c4e8b"
   },
   "source": [
    "<div style=\"background-color: #fcf2f2; border-color: #dfb5b4; border-left: 5px solid #dfb5b4; padding: 0.5em;\">\n",
    "<strong>Solució</strong>\n",
    "</div>"
   ]
  },
  {
   "cell_type": "code",
   "execution_count": null,
   "id": "ff0e4d7c",
   "metadata": {
    "id": "ff0e4d7c"
   },
   "outputs": [],
   "source": [
    "\n"
   ]
  }
 ],
 "metadata": {
  "colab": {
   "provenance": []
  },
  "kernelspec": {
   "display_name": "Python 3 (ipykernel)",
   "language": "python",
   "name": "python3"
  },
  "language_info": {
   "codemirror_mode": {
    "name": "ipython",
    "version": 3
   },
   "file_extension": ".py",
   "mimetype": "text/x-python",
   "name": "python",
   "nbconvert_exporter": "python",
   "pygments_lexer": "ipython3",
   "version": "3.9.2"
  },
  "toc": {
   "base_numbering": 1,
   "nav_menu": {},
   "number_sections": true,
   "sideBar": true,
   "skip_h1_title": false,
   "title_cell": "Table of Contents",
   "title_sidebar": "Contents",
   "toc_cell": false,
   "toc_position": {},
   "toc_section_display": true,
   "toc_window_display": false
  },
  "varInspector": {
   "cols": {
    "lenName": 16,
    "lenType": 16,
    "lenVar": 40
   },
   "kernels_config": {
    "python": {
     "delete_cmd_postfix": "",
     "delete_cmd_prefix": "del ",
     "library": "var_list.py",
     "varRefreshCmd": "print(var_dic_list())"
    },
    "r": {
     "delete_cmd_postfix": ") ",
     "delete_cmd_prefix": "rm(",
     "library": "var_list.r",
     "varRefreshCmd": "cat(var_dic_list()) "
    }
   },
   "types_to_exclude": [
    "module",
    "function",
    "builtin_function_or_method",
    "instance",
    "_Feature"
   ],
   "window_display": false
  }
 },
 "nbformat": 4,
 "nbformat_minor": 5
}

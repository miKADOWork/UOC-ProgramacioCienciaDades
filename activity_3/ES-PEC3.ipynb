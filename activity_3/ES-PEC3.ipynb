{
 "cells": [
  {
   "cell_type": "markdown",
   "id": "67fd6977",
   "metadata": {},
   "source": [
    "\n",
    "\n"
   ]
  },
  {
   "cell_type": "markdown",
   "id": "c1fe28d0",
   "metadata": {},
   "source": [
    "<div style=\"width: 100%; clear: both;\">\n",
    "    <div style=\"float: left; width: 50%;\">\n",
    "       <img src=\"https://www.uoc.edu/portal/system/modules/edu.uoc.presentations/resources/img/branding/logo-uoc-default.png\", align=\"left\" width=\"125px\">\n",
    "    </div>\n",
    "</div>\n",
    "\n",
    "<div style=\"float: right; width: 50%;\">\n",
    "    <p style=\"margin: 0; padding-top: 22px; text-align:right;\">22.403 · Programació per a la ciència de dades</p>\n",
    "    <p style=\"margin: 0; text-align:right;\">Grau en Ciència de Dades Aplicada</p>\n",
    "    <p style=\"margin: 0; text-align:right; padding-button: 100px;\">Estudis d'Informàtica, Multimèdia i Telecomunicació</p>\n",
    "</div>\n",
    "</div>"
   ]
  },
  {
   "cell_type": "markdown",
   "id": "214ea76e",
   "metadata": {},
   "source": [
    "Programación para la ciencia de datos - PEC3\n",
    "============================"
   ]
  },
  {
   "cell_type": "markdown",
   "id": "4a071317",
   "metadata": {},
   "source": [
    "En este Notebook encontraréis un conjunto de ejercicios que suponen la tercera actividad de evaluación continua (PEC) de la asignatura.\n",
    "\n",
    "Para cada ejercicio, tened en cuenta que:\n",
    "\n",
    "- **Es necesario incluir comentarios** en vuestro código, que expliquen cómo habéis implementado la solución del problema planteado.  \n",
    "- **Es imprescindible** citar las referencias consultadas.  \n",
    "- **Se valorará** que el código proporcionado solucione el problema propuesto y también la calidad del código (comentarios, legibilidad, claridad, uso de las estructuras de datos adecuadas, buena nomenclatura de las variables y funciones, seguimiento del PEP8, etc.). En esta PEC 3 es particularmente importante que el código desarrollado sea eficiente.\n",
    "\n",
    "Veréis que todas las actividades tienen una etiqueta, que indica los recursos necesarios para llevarla a cabo. Hay tres posibles etiquetas:\n",
    "\n",
    "* <span style=\"font-family: Courier New; background-color: #82b74b; color: #000000; padding: 3px; \">SM</span>**Sólo materiales**: las herramientas necesarias para realizar la actividad se pueden encontrar en los materiales de la asignatura (consideraremos también los materiales de la asignatura Fundamentos de Programación, así como las lecturas obligatorias de material externo que se indican en los notebooks).\n",
    "* <span style=\"font-family: Courier New; background-color: #ffcc5c; color: #000000; padding: 3px; \">EG</span>**Consulta externa guiada**: la actividad puede requerir hacer uso de herramientas que no se encuentran en los materiales de la asignatura, pero el enunciado contiene indicaciones de dónde o cómo encontrar la información adicional necesaria para resolver la actividad.  \n",
    "* <span style=\"font-family: Courier New; background-color: #f2ae72; color: #000000; padding: 3px; \">EI</span>**Consulta externa independiente**: la actividad puede requerir hacer uso de herramientas que no se encuentran en los materiales de la asignatura, y el enunciado puede no incluir la descripción de dónde o cómo encontrar esta información adicional. Será necesario que el estudiante busque esta información utilizando los recursos que se han explicado en la asignatura.\n",
    "\n",
    "Notad que estas etiquetas no indican el nivel de dificultad del ejercicio, sino únicamente la necesidad de consulta de documentación externa para su resolución. Además, recordad que las**etiquetas son informativas**, pero **podéis consultar referencias externas, y usarlas, siempre que queráis (aunque no se indique explícitamente). De la misma forma, podéis realizar una actividad sin consultar ningún tipo de documentación**. Por ejemplo, para resolver una actividad que sólo requiera los materiales de la asignatura, podéis consultar referencias externas, ya sea para ayudar a resolverla o para ampliar conocimientos."
   ]
  },
  {
   "cell_type": "markdown",
   "id": "393413c7",
   "metadata": {},
   "source": [
    "**Importante**: Además de la puntuación de cada ejercicio, que valora la calidad de la solución que propone y los resultados obtenidos, en esta PEC se valoran 3 aspectos adicionales, transversales a todas las actividades:\n",
    "\n",
    "* **Documentación**(**0.25*f puntos**): Todas las funciones de los ejercicios de esta PEC deberán ser correctamente documentadas utilizando docstrings (en el formato que prefiera).\n",
    "\n",
    "* **Modularidad**(**0.5*f puntos**): Se valorará la modularidad del código (la correcta estructuración del código en funciones).  \n",
    "* **Estilo**(**0.25*f puntos**): El código debe seguir la guía de estilo de Python [PEP8](https://www.python .org/dev/peps/pep-0008/), exceptuando los casos en los que hacerlo complique la legibilidad del código.\n",
    "\n",
    "Donde $f$ es la fracción de la PEC realizada. Es decir, la nota de estos aspectos transversales será proporcional a la parte de la PEC realizada.\n",
    "\n",
    "Así, los aspectos transversales tendrán una puntuación máxima de 1 punto si se entregan todos los ejercicios de la PEC. De lo contrario, la nota de aspectos transversales se multiplicará por la fracción de la PEC entregada. Por ejemplo, si los aspectos transversales están puntuados con un 1 y sólo existe la mitad de la PEC entregada, la nota de los aspectos transversales será $1*0.5=0.5$.\n",
    "\n",
    "La nota de los aspectos transversales se considera incluida en las mencionadas notas para los ejercicios.\n",
    "\n",
    "\n",
    "---\n",
    "\n",
    "## Antes de empezar\n",
    "\n",
    "Por favor, leed atentamente los siguientes párrafos relativos a la originalidad en las actividades de la asignatura antes de empezar a trabajar en la PEC. \n",
    "\n",
    "<div class=\"alert alert-block alert-success\">La falta de originalidad se produce cuando en una actividad aparece contenido que no ha sido elaborado de forma individual por el estudiante y no se referencia adecuadamente su origen. O bien cuando, aunque el contenido externo esté referenciado, éste es tan extenso que no es posible considerar al estudiante el autor o autora de la actividad.\n",
    "<br /><br />\n",
    "Así, algunos ejemplos de comportamientos inadecuados son en lo que se refiere a la falta de originalidad son:\n",
    "<ol>\n",
    "    <li>Crear la solución de un ejercicio de la PEC en colaboración entre varios estudiantes.</li>\n",
    "    <li>Incluir un ejercicio de la PEC que utilice código encontrado en internet sin citar la fuente.</li>\n",
    "    <li>Compartir su solución de la PEC con otros estudiantes de la asignatura.</li>\n",
    "    </ol>\n",
    "</div>\n",
    "\n",
    "## Instrucciones de entrega\n",
    "\n",
    "Para entregar la actividad es necesario:\n",
    "\n",
    "1. Comprobar que el notebook se ejecuta correctamente en la máquina virtual. Es importante que antes de entregar vuestra PEC comprobéis que la versión final del código que entrega se ejecuta correctamente en su totalidad. Para ello, os recomendamos realizar una ejecución completa desde cero del notebook: haced click en **Kernel > Restart & Run All** y comprobad que el notebook se ejecuta correctamente.\n",
    "2. Activar las alertas de estilo y comprobar que el código sigue las convenciones de estilo de Python. \n",
    "3. Confirmar que sois los autores únicos de la PEC y que ésta incluye todas las citas a recursos externos que se hayan utilizado para elaborarla. Para confirmar que son los autores únicos de la actividad, añadid vuestro nombre completo al párrafo de la celda siguiente.\n",
    "4. Generar un archivo comprimido que incluya todos los archivos de la PEC (tanto el archivo con el notebook, con extensión .ipynb, como las carpetas con los datos necesarios para ejecutarlo). Aseguraos de que se puede descomprimir este archivo en cualquier directorio del ordenador y que el código se ejecuta sin problemas.\n",
    "4. Para esta PEC sólo será necesario entregar el archivo con el notebook (con extensión .ipynb). Nosotros añadiremos la carpeta \"fecha\" (con archivos adicionales). Aseguraos de que se puede copiar este archivo en cualquier directorio del ordenador y que, una vez añadida una carpeta \"fecha\" en el mismo directorio, el código se ejecuta sin problemas.\n",
    "5. Entregar la PEC a través del Registro de Evaluación Continuada del aula.\n",
    "6. La carga del dataset debe hacerse usando **rutas relativas**, debe cargar el archivo teniendo en cuenta que vuestro notebook se encuentra en una carpeta que contiene la carpeta \"data\" con los archivos correspondientes."
   ]
  },
  {
   "cell_type": "markdown",
   "id": "b1f981ef",
   "metadata": {},
   "source": [
    "<div class=\"alert alert-block alert-warning\">Yo, *Nombre y Apellidos*, confirmo que he elaborado de manera individual todas las actividades resueltas en esta PEC y que he incluido las citas en todas las fuentes externas que he utilizado para resolver las actividades. </div>"
   ]
  },
  {
   "cell_type": "markdown",
   "id": "7b74de42",
   "metadata": {},
   "source": [
    "Como se ha comentado más arriba, en esta PEC se valora y puntúa seguir la guía de estilo de Python **PEP8**. Sin embargo, no es necesario activar las alertas de estilo con **pycodestyle**. Se entiende que el alumno a estas alturas ya tiene que seguir las reglas de estilo que ayudan a la legibilidad del código."
   ]
  },
  {
   "cell_type": "markdown",
   "id": "46e4239d",
   "metadata": {},
   "source": [
    "## Nota sobre las instrucciones mágicas %time y %timeit"
   ]
  },
  {
   "cell_type": "markdown",
   "id": "4bfa8134",
   "metadata": {},
   "source": [
    "En esta PEC3 no utilizaremos las instrucciones mágicas (%) que están implementadas en el kernel de IPython tal como se utilizaba en los apuntes de la asignatura. De una manera similar, utilizaremos las mismas instrucciones pero directamente con Python."
   ]
  },
  {
   "cell_type": "markdown",
   "id": "287e9d6b",
   "metadata": {},
   "source": [
    "En los apuntes hemos utilizado las instrucciones mágicas **%time** y **%timeit**:"
   ]
  },
  {
   "cell_type": "code",
   "execution_count": 1,
   "id": "2deb7316",
   "metadata": {},
   "outputs": [],
   "source": [
    "import time\n",
    "import timeit\n",
    "import numpy as np"
   ]
  },
  {
   "cell_type": "code",
   "execution_count": 2,
   "id": "56793c13",
   "metadata": {},
   "outputs": [
    {
     "name": "stdout",
     "output_type": "stream",
     "text": [
      "CPU times: user 775 µs, sys: 0 ns, total: 775 µs\n",
      "Wall time: 3.44 ms\n"
     ]
    },
    {
     "data": {
      "text/plain": [
       "108835171393"
      ]
     },
     "execution_count": 2,
     "metadata": {},
     "output_type": "execute_result"
    }
   ],
   "source": [
    "low = 1\n",
    "high = 2147483647\n",
    "size = 100\n",
    "\n",
    "%time sum(np.random.randint(low, high, size))"
   ]
  },
  {
   "cell_type": "code",
   "execution_count": 3,
   "id": "f73f3d48",
   "metadata": {},
   "outputs": [
    {
     "name": "stdout",
     "output_type": "stream",
     "text": [
      "The slowest run took 4.14 times longer than the fastest. This could mean that an intermediate result is being cached.\n",
      "43 µs ± 31 µs per loop (mean ± std. dev. of 5 runs, 10 loops each)\n"
     ]
    }
   ],
   "source": [
    "%timeit -n 10 -r 5 sum(np.random.randint(low, high, size))"
   ]
  },
  {
   "cell_type": "markdown",
   "id": "63b6c208",
   "metadata": {},
   "source": [
    "En esta PEC3 lo haremos de la siguiente manera:"
   ]
  },
  {
   "cell_type": "code",
   "execution_count": 4,
   "id": "8aaf87e4",
   "metadata": {},
   "outputs": [
    {
     "name": "stdout",
     "output_type": "stream",
     "text": [
      "0.0008611759985797107\n",
      "[0.00039110401121433824, 0.00028205799753777683, 0.00027669500559568405, 0.00042991900409106165, 0.00030328601133078337]\n",
      "0.00019530599820427597\n"
     ]
    }
   ],
   "source": [
    "# definimos primero el Timer:\n",
    "t = timeit.Timer(lambda:sum(np.random.randint(low, high, size)))\n",
    "\n",
    "# si queremos ejecutar esta instrucción 10 veces:\n",
    "print(t.timeit(number=10))\n",
    "\n",
    "# si queremos ejecutar la instrucción 10 veces, y repetir el proceso 5 veces:\n",
    "print(t.repeat(number=10, repeat=5))\n",
    "\n",
    "# como se comenta en la documentación de Python:\n",
    "# https://docs.python.org/3/library/timeit.html\n",
    "# \"Note It’s tempting to calculate mean and standard deviation from the result vector and report these.\n",
    "# However, this is not very useful. In a typical case, the lowest value gives a lower bound\n",
    "# for how fast your machine can run the given code snippet; higher values in the result vector are\n",
    "# typically not caused by variability in Python’s speed, but by other processes interfering\n",
    "# with your timing accuracy. So the min() of the result is probably the only number you should\n",
    "# be interested in. After that, you should look at the entire vector and apply common sense\n",
    "#rather than statistics.\n",
    "\n",
    "# Por tanto, lo mejor que podemos hacer con estos 5 valores es coger el valor mínimo:\n",
    "print(min(t.repeat(number=10, repeat=5)))"
   ]
  },
  {
   "cell_type": "markdown",
   "id": "5ddff06e",
   "metadata": {},
   "source": [
    "## Ejercicio 1\n",
    "El número $\\pi$ se puede aproximar con la siguiente serie de sumandos:\n",
    "\n",
    "    pi = 4 (1-1/3+1/5-1/5+1/7-1/7+1/9...)\n",
    "\n",
    "sólo hace falta dar más valores a la serie, y obtendremos una mejor aproximación. Esta serie la podemos implementar con la siguiente función:\n",
    "\n",
    "    def approximate_pi(N):\n",
    "        value = 0\n",
    "        for k in range(1, 2*N+1, 2):\n",
    "            sign = -(k % 4 - 2)\n",
    "            value += float(sign) / k\n",
    "        return 4 * value"
   ]
  },
  {
   "cell_type": "markdown",
   "id": "5910f6a3",
   "metadata": {},
   "source": [
    "<span style=\"font-family: Courier New; background-color: #82b74b; color: #000000; padding: 3px; \">SM</span> **(1 punto)**"
   ]
  },
  {
   "cell_type": "markdown",
   "id": "61b0ad03",
   "metadata": {},
   "source": [
    "### 1.1\n",
    "Cuenta los pasos que realiza la función **approximate_pi()** y deduce su complejidad asintótica en el peor caso (notación $\\mathcal{O}$), a partir del número de pasos que se ejecutan."
   ]
  },
  {
   "cell_type": "markdown",
   "id": "e41324f4",
   "metadata": {},
   "source": [
    "**Solución 1.1**."
   ]
  },
  {
   "cell_type": "markdown",
   "id": "f2a2c03b",
   "metadata": {},
   "source": [
    "### 1.2\n",
    "Confirma este resultado haciendo una gráfica del tiempo que tarda en ejecutarse el algoritmo con diferentes valores del número de sumandos. Puedes probar hasta 10000000."
   ]
  },
  {
   "cell_type": "markdown",
   "id": "e330c8f3",
   "metadata": {},
   "source": [
    "**Solución 1.2**"
   ]
  },
  {
   "cell_type": "markdown",
   "id": "2fa04380",
   "metadata": {},
   "source": [
    "## Ejercicio 2\n",
    "En este ejercicio empezaremos a practicar algoritmos de búsqueda. Buscaremos dentro de los decimales del número $\\pi$. El anterior algoritmo tiene una convergencia muy lenta al número $\\pi$. Tarda mucho en encontrar nuevos valores decimales. Por ejemplo, si n=10^7 tendremos una precisión de hasta 7 decimales. Por suerte, disponemos en el fichero *data/pi.txt* una lista completa de hasta 1 millón de decimales."
   ]
  },
  {
   "cell_type": "markdown",
   "id": "b2b51583",
   "metadata": {},
   "source": [
    "<span style=\"font-family: Courier New; background-color: #f2ae72; color: #000000; padding: 3px; \">EI</span> **(1 punto)**"
   ]
  },
  {
   "cell_type": "markdown",
   "id": "391445b0",
   "metadata": {},
   "source": [
    "### 2.1\n",
    "Comprueba, mirando el tamaño del fichero (programáticamente), que el fichero contiene 1 millón de dígitos entre 0 y 9. Lee programáticamente los 4 primeros caracteres/bytes. Tendrás que abrir el fichero en modo lectura y modo byte.\n",
    "\n",
    "**NOTA**: después de leer los 4 primeros bytes devuelve el cursor a la posición inicial."
   ]
  },
  {
   "cell_type": "markdown",
   "id": "bbdf3c20",
   "metadata": {},
   "source": [
    "**Solución 2.1**"
   ]
  },
  {
   "cell_type": "markdown",
   "id": "e00ea2e3",
   "metadata": {},
   "source": [
    "### 2.2\n",
    "Queremos obtener dígitos semi-aleatorios de 6 cifras. Lo que haréis es leer en el fichero *pi.txt* bloques de 6 bytes. Estos bloques los tendrás primero que decodificar para convertirlos a string, y después convertirlos a números (int). Pon todos estos números en una lista. Como habrá números repetidos, elimina los repetidos. ¿Cuántos números hay en la lista? ¿Cuál es el primero? ¿Cuál es el más pequeño? ¿Cuál es el más grande?"
   ]
  },
  {
   "cell_type": "markdown",
   "id": "f7794a1f",
   "metadata": {},
   "source": [
    "**Solución 2.2**"
   ]
  },
  {
   "cell_type": "markdown",
   "id": "7d479faa",
   "metadata": {},
   "source": [
    "## Ejercicio 3\n",
    "Practicaremos algoritmos de búsqueda con esta lista de valores. Algunos de los algoritmos que implementarás serán:\n",
    " \n",
    "1. Linear Search\n",
    "2. Sentinel Linear Search\n",
    "3. Binary Search\n",
    "4. Meta Binary Search (One-Sided Binary Search)\n",
    "5. Ternary Search\n",
    "6. Jump Search\n",
    "7. Interpolation Search\n",
    "8. Exponential Search\n",
    "9. Fibonacci Search\n",
    "\n",
    "Puedes encontrar la implementación en Python de todos ellos en:\n",
    "\n",
    "- [https://www.geeksforgeeks.org/searching-algorithms/](https://www.geeksforgeeks.org/searching-algorithms/)\n",
    "\n",
    "Esta implementación es la que se utilizará en la solución propuesta.\n",
    "\n",
    "Los dos primeros, como su nombre indica, son métodos lineals, que significa que el tiempo de búsqueda será proporcional al número de valores en la lista (nos situamos en el peor caso buscando el último valor de la lista)."
   ]
  },
  {
   "cell_type": "markdown",
   "id": "0108145b",
   "metadata": {},
   "source": [
    "<span style=\"font-family: Courier New; background-color: #ffcc5c; color: #000000; padding: 3px; \">EG</span> **(1.5 puntos)**"
   ]
  },
  {
   "cell_type": "markdown",
   "id": "56dbfc11",
   "metadata": {},
   "source": [
    "### 3.1\n",
    "Implementa los métodos **Linear Search** y **Sentinel Linear Search**. Un número que seguro que existe es el primero de la lista, que ya lo has encontrado. Un número que seguro que no existe es cualquier número de 7 cifras. Con cuatro *assert* (2 para cada método) comprueba estos resultados.\n",
    "\n",
    "**NOTA:** El método *Sentinel Linear Search* no tiene que devolver un print, tiene que devolver el índice de la posición donde se ha encontrado el valor.\n",
    "\n",
    "**NOTA:** cuando hagas copiar/enganchar código de una página web, hay que ir con cuidado como se copian las identaciones y tabuladores."
   ]
  },
  {
   "cell_type": "markdown",
   "id": "65594947",
   "metadata": {},
   "source": [
    "**Solución 3.1**"
   ]
  },
  {
   "cell_type": "markdown",
   "id": "b3b6316c",
   "metadata": {},
   "source": [
    "## 3.2\n",
    "Explica con tus palabras cómo hace la búsqueda el método Sentinel (y en qué se diferencia con el método básico)."
   ]
  },
  {
   "cell_type": "markdown",
   "id": "cda0243e",
   "metadata": {},
   "source": [
    "**Solución 3.2**"
   ]
  },
  {
   "cell_type": "markdown",
   "id": "4b69f5b2",
   "metadata": {},
   "source": [
    "## 3.3\n",
    "Pon en una gráfica los dos métodos para comprobar que tienen un comportamiento lineal, y comparar las posibles diferencias entre los dos métodos. Comenta los resultados. Tienes que utilizar la lista de números que has construido en el apartado 2.2. Haz una lista de 100 valores equiespaciados, y cogerás estos valors como longitud de la lista sobre la que harás la búsqueda. Buscarás siempre el último número de la lista (nos ponemos en el peor de los casos)."
   ]
  },
  {
   "cell_type": "markdown",
   "id": "d25b9e3c",
   "metadata": {},
   "source": [
    "**Solució 3.3**"
   ]
  },
  {
   "cell_type": "markdown",
   "id": "d5ad5620",
   "metadata": {},
   "source": [
    "## Ejercicio 4\n",
    "El resto de métodos requieren que la lista esté ordenada. Así pues, lo primero que haremos es ordenarla de menor a mayor. El hecho de que la lista esté ordenada favorece las estrategias de búsqueda, y tenemos una serie de algoritmos de tipo log(N)."
   ]
  },
  {
   "cell_type": "markdown",
   "id": "9aa4f4df",
   "metadata": {},
   "source": [
    "<span style=\"font-family: Courier New; background-color: #ffcc5c; color: #000000; padding: 3px; \">EG</span> **(1.5 puntos)**"
   ]
  },
  {
   "cell_type": "markdown",
   "id": "24a59b85",
   "metadata": {},
   "source": [
    "### 4.1\n",
    "Compara los métodos **Linear Search** y **Binary Search**, con escala normal y escala logarítmica, para así poner en evidencia la ventaja del método binari en búsquedas sobre listas ordenadas. Construye las listas sobre las que harás la búsqueda, y los números que buscas. Puedes probar diferentes valores de puntos equiespaciados en el eje de las x (listas de longitud creciente), y prueba también de suavizar los resultados con *t.repeat(number=a, repeat=b)*. Busca unos valores que hagan que el tiemo de ejecución sea correcto (ni muy pequeño ni muy grande), y que el comportamiento de la gráfica se vea claro."
   ]
  },
  {
   "cell_type": "markdown",
   "id": "d99194f1",
   "metadata": {},
   "source": [
    "**Solución 4.1**"
   ]
  },
  {
   "cell_type": "markdown",
   "id": "ee69a605",
   "metadata": {},
   "source": [
    "### 4.2\n",
    "Implementa los tres primeros algoritmos de la lista: Binary Search, Meta Binary Search y Ternary Search. Ponlos en una misma gráfica para observar si hay alguna diferencia significativa. Recuerda que estos algoritmos son de tipo log(N), y por tanto si pones escala logarítmica en el tiempo de ejecución tendrías que ver un comportamiento lineal."
   ]
  },
  {
   "cell_type": "markdown",
   "id": "ba25c378",
   "metadata": {},
   "source": [
    "**Solución 4.2**"
   ]
  },
  {
   "cell_type": "markdown",
   "id": "10b95d28",
   "metadata": {},
   "source": [
    "## Ejercicio 5\n",
    "El [algoritmo de **Chudnovsky**](https://levelup.gitconnected.com/generating-the-value-of-pi-to-a-known-number-of-decimals-places-in-python-e93986bb474d) sí que nos proporciona una manera rápida de encontrar un valor muy grande de decimales del número Pi. Con este algoritmo puedes obtener por ejemplo 10000 dígitos de Pi con un tiempo muy razonable.\n",
    "\n",
    "* [https://levelup.gitconnected.com/generating-the-value-of-pi-to-a-known-number-of-decimals-places-in-python-e93986bb474d](https://levelup.gitconnected.com/generating-the-value-of-pi-to-a-known-number-of-decimals-places-in-python-e93986bb474d)"
   ]
  },
  {
   "cell_type": "markdown",
   "id": "2acdc258",
   "metadata": {},
   "source": [
    "<span style=\"font-family: Courier New; background-color: #ffcc5c; color: #000000; padding: 3px; \">EG</span> **(1.5 puntos)**"
   ]
  },
  {
   "cell_type": "markdown",
   "id": "898f03c4",
   "metadata": {},
   "source": [
    "### 5.1\n",
    "Con la implementación propuesta en la anterior url, obtén los 100 primeros dígitos de $\\pi$."
   ]
  },
  {
   "cell_type": "markdown",
   "id": "3cd3c75c",
   "metadata": {},
   "source": [
    "**Solución 5.1**"
   ]
  },
  {
   "cell_type": "markdown",
   "id": "1ac2ebad",
   "metadata": {},
   "source": [
    "### 5.2\n",
    "Haz una gráfica del número de dígitos/tiempo llegando hasta 500 dígitos, con este algoritmo de Chudnovsky. Haz dos gràficas: escala normal en los dos ejes, y escala lograrítmica en los dos ejes. Qué comportamiento puedes observar? Lo puedes comparar con los resultados que se comentan en el siuiente articulo (gráfica al final):\n",
    "\n",
    "- [https://www.craig-wood.com/nick/articles/pi-chudnovsky/](https://www.craig-wood.com/nick/articles/pi-chudnovsky/)\n",
    "\n",
    "Si te fijas bien en la gráfica que observas en el artículo, el comportamiento del tiempo para 1000 dígitos con el algoritmo de Chudnovsky es uno (zona A), y a partir de 1000 dígitos es otro (zona B). Tú lo probarás sólo hasta 500 dígitos (zona A). Para comprobar el comportamiento de la zona B los tiempos de ejecución se disparan y no lo tienes que probar.\n",
    "\n",
    "**NOTA**: La explicación de cómo varía el tiempso en función del número de dígitos, para las dos gráficas, puede requerir razonamientos matemáticos avanzados. No se pretende en esta pregunta que el alumno sepa justificarlo matemáticamente."
   ]
  },
  {
   "cell_type": "markdown",
   "id": "f8876e1a",
   "metadata": {},
   "source": [
    "**Solución 5.2**"
   ]
  },
  {
   "cell_type": "markdown",
   "id": "d9aabdfd",
   "metadata": {},
   "source": [
    "## Ejercicio 6\n",
    "Además de calcular decimals de $\\pi$, queremos aprovechar el tiempo mientras se hacen los cálculos para descargar unos artículos relacionados con algoritmos para calcular dígitos de Pi:\n",
    "- [https://www.cs.umb.edu/~offner/files/pi.pdf](https://www.cs.umb.edu/~offner/files/pi.pdf)\n",
    "- [https://www.davidhbailey.com/dhbpapers/pi-formulas.pdf](https://www.davidhbailey.com/dhbpapers/pi-formulas.pdf)\n",
    "- [https://www.davidhbailey.com/dhbtalks/dhb-conant.pdf](https://www.davidhbailey.com/dhbtalks/dhb-conant.pdf)\n",
    "- [https://arxiv.org/pdf/1912.05319.pdf](https://arxiv.org/pdf/1912.05319.pdf)\n",
    "- [https://maa.org/sites/default/files/pdf/pubs/amm_supplements/Monthly_Reference_12.pdf](https://maa.org/sites/default/files/pdf/pubs/amm_supplements/Monthly_Reference_12.pdf)"
   ]
  },
  {
   "cell_type": "markdown",
   "id": "4745366e",
   "metadata": {},
   "source": [
    "<span style=\"font-family: Courier New; background-color: #82b74b; color: #000000; padding: 3px; \">SM</span> **(2 puntos)**"
   ]
  },
  {
   "cell_type": "markdown",
   "id": "13b10471",
   "metadata": {},
   "source": [
    "### 6.1\n",
    "\n",
    "Calcula el tiempo total para calcular 7000 decimales de $\\pi$ (con el anterior algoritmo de Chudnovsky) y, una vez finalizado, después descargar los 5 pdfs."
   ]
  },
  {
   "cell_type": "markdown",
   "id": "531836c6",
   "metadata": {},
   "source": [
    "**Solución 6.1**"
   ]
  },
  {
   "cell_type": "markdown",
   "id": "99daea67",
   "metadata": {},
   "source": [
    "### 6.2\n",
    "Implementa las dos tareas en **threads** diferentes: en el primer thread calculas los 7000 decimales; en el siguiente thread haces las tareas de descarga de los pdfs. Calcula el tiempo total."
   ]
  },
  {
   "cell_type": "markdown",
   "id": "4a28ce7b",
   "metadata": {},
   "source": [
    "**Solución 6.2**"
   ]
  },
  {
   "cell_type": "markdown",
   "id": "1c2cf361",
   "metadata": {},
   "source": [
    "### 6.3\n",
    "¿Qué mejora en porcentaje has obtenido en el tiempo total de ejecución de las dos tareas?"
   ]
  },
  {
   "cell_type": "markdown",
   "id": "2eefc32c",
   "metadata": {},
   "source": [
    "**Solució 6.3**"
   ]
  },
  {
   "cell_type": "markdown",
   "id": "3d5aa74e",
   "metadata": {},
   "source": [
    "### 6.4\n",
    "Pon en una gráfica de barras los dos tiempos obtenidos, para así poder hacer la comparación."
   ]
  },
  {
   "cell_type": "markdown",
   "id": "e65e76ce",
   "metadata": {},
   "source": [
    "**Solución 6.4**"
   ]
  },
  {
   "cell_type": "markdown",
   "id": "1eeb1aa3",
   "metadata": {},
   "source": [
    "### 6.5\n",
    "Explica con tus palabras las ventajas que has obtenido en separar los dos procesos en diferentes threads."
   ]
  },
  {
   "cell_type": "markdown",
   "id": "dc6d0360",
   "metadata": {},
   "source": [
    "**Solución 6.5**"
   ]
  },
  {
   "cell_type": "markdown",
   "id": "1a9bdbd4",
   "metadata": {},
   "source": [
    "## Ejercicio 7\n",
    "Haremos lo mismo pero con la versión multiproceso."
   ]
  },
  {
   "cell_type": "markdown",
   "id": "e6471a1f",
   "metadata": {},
   "source": [
    "<span style=\"font-family: Courier New; background-color: #82b74b; color: #000000; padding: 3px; \">SM</span> **(1.5 puntos)**"
   ]
  },
  {
   "cell_type": "markdown",
   "id": "aa2d1513",
   "metadata": {},
   "source": [
    "### 7.1\n",
    "En un proceso calcularemos los 7000 decimales del número pi. Y también crearemos un proceso para cada descarga de fichero. Igual que antes, queremos comparar la versión con un solo proceso (ya calculado) con la versión multiproceso. Calcula el tiempo total."
   ]
  },
  {
   "cell_type": "markdown",
   "id": "ad961f93",
   "metadata": {},
   "source": [
    "**Solución 7.1**"
   ]
  },
  {
   "cell_type": "markdown",
   "id": "9b6ac41f",
   "metadata": {},
   "source": [
    "### 7.2\n",
    "¿Qué mejora en % has obtenido en el tiempo total de ejecución de las dos tareas?"
   ]
  },
  {
   "cell_type": "markdown",
   "id": "db30fbf8",
   "metadata": {},
   "source": [
    "**Solución 7.2**"
   ]
  },
  {
   "cell_type": "markdown",
   "id": "1809000e",
   "metadata": {},
   "source": [
    "### 7.3\n",
    "Pon en una gráfica de barras los dos tiempos obtenidos, y así poder hacer la comparación."
   ]
  },
  {
   "cell_type": "markdown",
   "id": "9c0c378b",
   "metadata": {},
   "source": [
    "**Solución 7.3**"
   ]
  },
  {
   "cell_type": "markdown",
   "id": "f49cf1be",
   "metadata": {},
   "source": [
    "### 7.4\n",
    "Explica con tus palabras las ventajas que has obtenido en separar las dos tareas en diferentes procesos."
   ]
  },
  {
   "cell_type": "markdown",
   "id": "aec35a4c",
   "metadata": {},
   "source": [
    "**Solución 7.4**"
   ]
  }
 ],
 "metadata": {
  "kernelspec": {
   "display_name": "Python 3 (ipykernel)",
   "language": "python",
   "name": "python3"
  },
  "language_info": {
   "codemirror_mode": {
    "name": "ipython",
    "version": 3
   },
   "file_extension": ".py",
   "mimetype": "text/x-python",
   "name": "python",
   "nbconvert_exporter": "python",
   "pygments_lexer": "ipython3",
   "version": "3.8.10"
  },
  "title": "PAC3",
  "toc": {
   "base_numbering": 1,
   "nav_menu": {},
   "number_sections": false,
   "sideBar": true,
   "skip_h1_title": false,
   "title_cell": "Table of Contents",
   "title_sidebar": "Contents",
   "toc_cell": false,
   "toc_position": {},
   "toc_section_display": true,
   "toc_window_display": false
  },
  "varInspector": {
   "cols": {
    "lenName": 16,
    "lenType": 16,
    "lenVar": 40
   },
   "kernels_config": {
    "python": {
     "delete_cmd_postfix": "",
     "delete_cmd_prefix": "del ",
     "library": "var_list.py",
     "varRefreshCmd": "print(var_dic_list())"
    },
    "r": {
     "delete_cmd_postfix": ") ",
     "delete_cmd_prefix": "rm(",
     "library": "var_list.r",
     "varRefreshCmd": "cat(var_dic_list()) "
    }
   },
   "types_to_exclude": [
    "module",
    "function",
    "builtin_function_or_method",
    "instance",
    "_Feature"
   ],
   "window_display": false
  }
 },
 "nbformat": 4,
 "nbformat_minor": 5
}
